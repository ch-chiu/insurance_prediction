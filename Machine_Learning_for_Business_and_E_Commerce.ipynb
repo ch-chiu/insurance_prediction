{
  "nbformat": 4,
  "nbformat_minor": 0,
  "metadata": {
    "colab": {
      "provenance": [],
      "toc_visible": true,
      "authorship_tag": "ABX9TyN/hMoyZl9PfSoBFXDZj2Og",
      "include_colab_link": true
    },
    "kernelspec": {
      "name": "python3",
      "display_name": "Python 3"
    },
    "language_info": {
      "name": "python"
    }
  },
  "cells": [
    {
      "cell_type": "markdown",
      "metadata": {
        "id": "view-in-github",
        "colab_type": "text"
      },
      "source": [
        "<a href=\"https://colab.research.google.com/github/ch-chiu/insurance_prediction/blob/main/Machine_Learning_for_Business_and_E_Commerce.ipynb\" target=\"_parent\"><img src=\"https://colab.research.google.com/assets/colab-badge.svg\" alt=\"Open In Colab\"/></a>"
      ]
    },
    {
      "cell_type": "markdown",
      "source": [
        "# import dataset to colab"
      ],
      "metadata": {
        "id": "Bf0UL_3TFe0F"
      }
    },
    {
      "cell_type": "code",
      "execution_count": null,
      "metadata": {
        "id": "TK5ewUu1Aqbv"
      },
      "outputs": [],
      "source": [
        "import pandas as pd\n",
        "\n",
        "def load_insurance_data():\n",
        "  url = \"https://raw.githubusercontent.com/ch-chiu/insurance_prediction/main/InsuranceDataset.csv\"\n",
        "  return pd.read_csv(url)\n",
        "\n",
        "insurance_data = load_insurance_data()\n"
      ]
    },
    {
      "cell_type": "markdown",
      "source": [
        "# Take a Quick Look at the Data Structure\n",
        "\n"
      ],
      "metadata": {
        "id": "dbGlzs2fFVY3"
      }
    },
    {
      "cell_type": "markdown",
      "source": [],
      "metadata": {
        "id": "t_jSfXFn5ORu"
      }
    },
    {
      "cell_type": "code",
      "source": [
        "# view the imported data\n",
        "insurance_data"
      ],
      "metadata": {
        "colab": {
          "base_uri": "https://localhost:8080/",
          "height": 423
        },
        "id": "EWbitHKpC4Fd",
        "outputId": "bee8b326-b3a9-4b99-a094-35f6d5a4fe35"
      },
      "execution_count": null,
      "outputs": [
        {
          "output_type": "execute_result",
          "data": {
            "text/plain": [
              "       age     sex              home   bmi  children smoker    drinking  \\\n",
              "0     49.0  female           Kowloon  32.3       2.0     no          no   \n",
              "1     55.0  female          South NT  29.5       2.0     no  occasional   \n",
              "2     53.0  female          North NT  26.0       0.0     no    frequent   \n",
              "3     19.0    male  Hong Kong Island  33.2       0.0     no  occasional   \n",
              "4     59.0    male  Hong Kong Island  36.5       1.0     no    frequent   \n",
              "...    ...     ...               ...   ...       ...    ...         ...   \n",
              "1336  56.0    male  Hong Kong Island  38.5       0.0     no          no   \n",
              "1337  24.0  female          North NT  32.1       0.0     no  occasional   \n",
              "1338   NaN     NaN               NaN   NaN       NaN    NaN         NaN   \n",
              "1339   NaN     NaN               NaN   NaN       NaN    NaN         NaN   \n",
              "1340   NaN     NaN               NaN   NaN       NaN    NaN         NaN   \n",
              "\n",
              "     past claims  \n",
              "0         72,433  \n",
              "1         79,358  \n",
              "2         67,628  \n",
              "3          7,020  \n",
              "4         82,368  \n",
              "...          ...  \n",
              "1336      73,688  \n",
              "1337      17,955  \n",
              "1338         NaN  \n",
              "1339         NaN  \n",
              "1340         NaN  \n",
              "\n",
              "[1341 rows x 8 columns]"
            ],
            "text/html": [
              "\n",
              "  <div id=\"df-62fb7bba-0a3d-46aa-a727-94379c217449\">\n",
              "    <div class=\"colab-df-container\">\n",
              "      <div>\n",
              "<style scoped>\n",
              "    .dataframe tbody tr th:only-of-type {\n",
              "        vertical-align: middle;\n",
              "    }\n",
              "\n",
              "    .dataframe tbody tr th {\n",
              "        vertical-align: top;\n",
              "    }\n",
              "\n",
              "    .dataframe thead th {\n",
              "        text-align: right;\n",
              "    }\n",
              "</style>\n",
              "<table border=\"1\" class=\"dataframe\">\n",
              "  <thead>\n",
              "    <tr style=\"text-align: right;\">\n",
              "      <th></th>\n",
              "      <th>age</th>\n",
              "      <th>sex</th>\n",
              "      <th>home</th>\n",
              "      <th>bmi</th>\n",
              "      <th>children</th>\n",
              "      <th>smoker</th>\n",
              "      <th>drinking</th>\n",
              "      <th>past claims</th>\n",
              "    </tr>\n",
              "  </thead>\n",
              "  <tbody>\n",
              "    <tr>\n",
              "      <th>0</th>\n",
              "      <td>49.0</td>\n",
              "      <td>female</td>\n",
              "      <td>Kowloon</td>\n",
              "      <td>32.3</td>\n",
              "      <td>2.0</td>\n",
              "      <td>no</td>\n",
              "      <td>no</td>\n",
              "      <td>72,433</td>\n",
              "    </tr>\n",
              "    <tr>\n",
              "      <th>1</th>\n",
              "      <td>55.0</td>\n",
              "      <td>female</td>\n",
              "      <td>South NT</td>\n",
              "      <td>29.5</td>\n",
              "      <td>2.0</td>\n",
              "      <td>no</td>\n",
              "      <td>occasional</td>\n",
              "      <td>79,358</td>\n",
              "    </tr>\n",
              "    <tr>\n",
              "      <th>2</th>\n",
              "      <td>53.0</td>\n",
              "      <td>female</td>\n",
              "      <td>North NT</td>\n",
              "      <td>26.0</td>\n",
              "      <td>0.0</td>\n",
              "      <td>no</td>\n",
              "      <td>frequent</td>\n",
              "      <td>67,628</td>\n",
              "    </tr>\n",
              "    <tr>\n",
              "      <th>3</th>\n",
              "      <td>19.0</td>\n",
              "      <td>male</td>\n",
              "      <td>Hong Kong Island</td>\n",
              "      <td>33.2</td>\n",
              "      <td>0.0</td>\n",
              "      <td>no</td>\n",
              "      <td>occasional</td>\n",
              "      <td>7,020</td>\n",
              "    </tr>\n",
              "    <tr>\n",
              "      <th>4</th>\n",
              "      <td>59.0</td>\n",
              "      <td>male</td>\n",
              "      <td>Hong Kong Island</td>\n",
              "      <td>36.5</td>\n",
              "      <td>1.0</td>\n",
              "      <td>no</td>\n",
              "      <td>frequent</td>\n",
              "      <td>82,368</td>\n",
              "    </tr>\n",
              "    <tr>\n",
              "      <th>...</th>\n",
              "      <td>...</td>\n",
              "      <td>...</td>\n",
              "      <td>...</td>\n",
              "      <td>...</td>\n",
              "      <td>...</td>\n",
              "      <td>...</td>\n",
              "      <td>...</td>\n",
              "      <td>...</td>\n",
              "    </tr>\n",
              "    <tr>\n",
              "      <th>1336</th>\n",
              "      <td>56.0</td>\n",
              "      <td>male</td>\n",
              "      <td>Hong Kong Island</td>\n",
              "      <td>38.5</td>\n",
              "      <td>0.0</td>\n",
              "      <td>no</td>\n",
              "      <td>no</td>\n",
              "      <td>73,688</td>\n",
              "    </tr>\n",
              "    <tr>\n",
              "      <th>1337</th>\n",
              "      <td>24.0</td>\n",
              "      <td>female</td>\n",
              "      <td>North NT</td>\n",
              "      <td>32.1</td>\n",
              "      <td>0.0</td>\n",
              "      <td>no</td>\n",
              "      <td>occasional</td>\n",
              "      <td>17,955</td>\n",
              "    </tr>\n",
              "    <tr>\n",
              "      <th>1338</th>\n",
              "      <td>NaN</td>\n",
              "      <td>NaN</td>\n",
              "      <td>NaN</td>\n",
              "      <td>NaN</td>\n",
              "      <td>NaN</td>\n",
              "      <td>NaN</td>\n",
              "      <td>NaN</td>\n",
              "      <td>NaN</td>\n",
              "    </tr>\n",
              "    <tr>\n",
              "      <th>1339</th>\n",
              "      <td>NaN</td>\n",
              "      <td>NaN</td>\n",
              "      <td>NaN</td>\n",
              "      <td>NaN</td>\n",
              "      <td>NaN</td>\n",
              "      <td>NaN</td>\n",
              "      <td>NaN</td>\n",
              "      <td>NaN</td>\n",
              "    </tr>\n",
              "    <tr>\n",
              "      <th>1340</th>\n",
              "      <td>NaN</td>\n",
              "      <td>NaN</td>\n",
              "      <td>NaN</td>\n",
              "      <td>NaN</td>\n",
              "      <td>NaN</td>\n",
              "      <td>NaN</td>\n",
              "      <td>NaN</td>\n",
              "      <td>NaN</td>\n",
              "    </tr>\n",
              "  </tbody>\n",
              "</table>\n",
              "<p>1341 rows × 8 columns</p>\n",
              "</div>\n",
              "      <button class=\"colab-df-convert\" onclick=\"convertToInteractive('df-62fb7bba-0a3d-46aa-a727-94379c217449')\"\n",
              "              title=\"Convert this dataframe to an interactive table.\"\n",
              "              style=\"display:none;\">\n",
              "        \n",
              "  <svg xmlns=\"http://www.w3.org/2000/svg\" height=\"24px\"viewBox=\"0 0 24 24\"\n",
              "       width=\"24px\">\n",
              "    <path d=\"M0 0h24v24H0V0z\" fill=\"none\"/>\n",
              "    <path d=\"M18.56 5.44l.94 2.06.94-2.06 2.06-.94-2.06-.94-.94-2.06-.94 2.06-2.06.94zm-11 1L8.5 8.5l.94-2.06 2.06-.94-2.06-.94L8.5 2.5l-.94 2.06-2.06.94zm10 10l.94 2.06.94-2.06 2.06-.94-2.06-.94-.94-2.06-.94 2.06-2.06.94z\"/><path d=\"M17.41 7.96l-1.37-1.37c-.4-.4-.92-.59-1.43-.59-.52 0-1.04.2-1.43.59L10.3 9.45l-7.72 7.72c-.78.78-.78 2.05 0 2.83L4 21.41c.39.39.9.59 1.41.59.51 0 1.02-.2 1.41-.59l7.78-7.78 2.81-2.81c.8-.78.8-2.07 0-2.86zM5.41 20L4 18.59l7.72-7.72 1.47 1.35L5.41 20z\"/>\n",
              "  </svg>\n",
              "      </button>\n",
              "      \n",
              "  <style>\n",
              "    .colab-df-container {\n",
              "      display:flex;\n",
              "      flex-wrap:wrap;\n",
              "      gap: 12px;\n",
              "    }\n",
              "\n",
              "    .colab-df-convert {\n",
              "      background-color: #E8F0FE;\n",
              "      border: none;\n",
              "      border-radius: 50%;\n",
              "      cursor: pointer;\n",
              "      display: none;\n",
              "      fill: #1967D2;\n",
              "      height: 32px;\n",
              "      padding: 0 0 0 0;\n",
              "      width: 32px;\n",
              "    }\n",
              "\n",
              "    .colab-df-convert:hover {\n",
              "      background-color: #E2EBFA;\n",
              "      box-shadow: 0px 1px 2px rgba(60, 64, 67, 0.3), 0px 1px 3px 1px rgba(60, 64, 67, 0.15);\n",
              "      fill: #174EA6;\n",
              "    }\n",
              "\n",
              "    [theme=dark] .colab-df-convert {\n",
              "      background-color: #3B4455;\n",
              "      fill: #D2E3FC;\n",
              "    }\n",
              "\n",
              "    [theme=dark] .colab-df-convert:hover {\n",
              "      background-color: #434B5C;\n",
              "      box-shadow: 0px 1px 3px 1px rgba(0, 0, 0, 0.15);\n",
              "      filter: drop-shadow(0px 1px 2px rgba(0, 0, 0, 0.3));\n",
              "      fill: #FFFFFF;\n",
              "    }\n",
              "  </style>\n",
              "\n",
              "      <script>\n",
              "        const buttonEl =\n",
              "          document.querySelector('#df-62fb7bba-0a3d-46aa-a727-94379c217449 button.colab-df-convert');\n",
              "        buttonEl.style.display =\n",
              "          google.colab.kernel.accessAllowed ? 'block' : 'none';\n",
              "\n",
              "        async function convertToInteractive(key) {\n",
              "          const element = document.querySelector('#df-62fb7bba-0a3d-46aa-a727-94379c217449');\n",
              "          const dataTable =\n",
              "            await google.colab.kernel.invokeFunction('convertToInteractive',\n",
              "                                                     [key], {});\n",
              "          if (!dataTable) return;\n",
              "\n",
              "          const docLinkHtml = 'Like what you see? Visit the ' +\n",
              "            '<a target=\"_blank\" href=https://colab.research.google.com/notebooks/data_table.ipynb>data table notebook</a>'\n",
              "            + ' to learn more about interactive tables.';\n",
              "          element.innerHTML = '';\n",
              "          dataTable['output_type'] = 'display_data';\n",
              "          await google.colab.output.renderOutput(dataTable, element);\n",
              "          const docLink = document.createElement('div');\n",
              "          docLink.innerHTML = docLinkHtml;\n",
              "          element.appendChild(docLink);\n",
              "        }\n",
              "      </script>\n",
              "    </div>\n",
              "  </div>\n",
              "  "
            ]
          },
          "metadata": {},
          "execution_count": 2
        }
      ]
    },
    {
      "cell_type": "code",
      "source": [
        "insurance_data.info()"
      ],
      "metadata": {
        "colab": {
          "base_uri": "https://localhost:8080/"
        },
        "id": "AgVgiCCDFFGZ",
        "outputId": "183afcc3-d007-464c-84f7-d87e9913efb3"
      },
      "execution_count": null,
      "outputs": [
        {
          "output_type": "stream",
          "name": "stdout",
          "text": [
            "<class 'pandas.core.frame.DataFrame'>\n",
            "RangeIndex: 1341 entries, 0 to 1340\n",
            "Data columns (total 8 columns):\n",
            " #   Column       Non-Null Count  Dtype  \n",
            "---  ------       --------------  -----  \n",
            " 0   age          1338 non-null   float64\n",
            " 1   sex          1338 non-null   object \n",
            " 2   home         1338 non-null   object \n",
            " 3   bmi          1338 non-null   float64\n",
            " 4   children     1335 non-null   float64\n",
            " 5   smoker       1338 non-null   object \n",
            " 6   drinking     1338 non-null   object \n",
            " 7   past claims  1338 non-null   object \n",
            "dtypes: float64(3), object(5)\n",
            "memory usage: 83.9+ KB\n"
          ]
        }
      ]
    },
    {
      "cell_type": "code",
      "source": [
        "insurance_data[\"past claims\"] = insurance_data[\"past claims\"].str.replace(',', '').astype(float)\n",
        "insurance_data.describe()"
      ],
      "metadata": {
        "colab": {
          "base_uri": "https://localhost:8080/",
          "height": 300
        },
        "id": "18n8KGSeFxTM",
        "outputId": "70ff757e-fbda-431c-f392-8a758a2958fc"
      },
      "execution_count": null,
      "outputs": [
        {
          "output_type": "execute_result",
          "data": {
            "text/plain": [
              "               age          bmi     children    past claims\n",
              "count  1338.000000  1338.000000  1335.000000    1338.000000\n",
              "mean     39.281764    29.738341     1.093633   90388.195815\n",
              "std      14.207480     6.109329     1.205092   84782.257933\n",
              "min      18.000000    14.800000     0.000000    3374.000000\n",
              "25%      27.000000    25.400000     0.000000   30353.750000\n",
              "50%      39.000000    29.500000     1.000000   63390.000000\n",
              "75%      51.000000    33.600000     2.000000  113611.000000\n",
              "max     119.000000    52.100000     5.000000  442160.000000"
            ],
            "text/html": [
              "\n",
              "  <div id=\"df-39bdc110-a975-416f-add0-d0ce10bf1b60\">\n",
              "    <div class=\"colab-df-container\">\n",
              "      <div>\n",
              "<style scoped>\n",
              "    .dataframe tbody tr th:only-of-type {\n",
              "        vertical-align: middle;\n",
              "    }\n",
              "\n",
              "    .dataframe tbody tr th {\n",
              "        vertical-align: top;\n",
              "    }\n",
              "\n",
              "    .dataframe thead th {\n",
              "        text-align: right;\n",
              "    }\n",
              "</style>\n",
              "<table border=\"1\" class=\"dataframe\">\n",
              "  <thead>\n",
              "    <tr style=\"text-align: right;\">\n",
              "      <th></th>\n",
              "      <th>age</th>\n",
              "      <th>bmi</th>\n",
              "      <th>children</th>\n",
              "      <th>past claims</th>\n",
              "    </tr>\n",
              "  </thead>\n",
              "  <tbody>\n",
              "    <tr>\n",
              "      <th>count</th>\n",
              "      <td>1338.000000</td>\n",
              "      <td>1338.000000</td>\n",
              "      <td>1335.000000</td>\n",
              "      <td>1338.000000</td>\n",
              "    </tr>\n",
              "    <tr>\n",
              "      <th>mean</th>\n",
              "      <td>39.281764</td>\n",
              "      <td>29.738341</td>\n",
              "      <td>1.093633</td>\n",
              "      <td>90388.195815</td>\n",
              "    </tr>\n",
              "    <tr>\n",
              "      <th>std</th>\n",
              "      <td>14.207480</td>\n",
              "      <td>6.109329</td>\n",
              "      <td>1.205092</td>\n",
              "      <td>84782.257933</td>\n",
              "    </tr>\n",
              "    <tr>\n",
              "      <th>min</th>\n",
              "      <td>18.000000</td>\n",
              "      <td>14.800000</td>\n",
              "      <td>0.000000</td>\n",
              "      <td>3374.000000</td>\n",
              "    </tr>\n",
              "    <tr>\n",
              "      <th>25%</th>\n",
              "      <td>27.000000</td>\n",
              "      <td>25.400000</td>\n",
              "      <td>0.000000</td>\n",
              "      <td>30353.750000</td>\n",
              "    </tr>\n",
              "    <tr>\n",
              "      <th>50%</th>\n",
              "      <td>39.000000</td>\n",
              "      <td>29.500000</td>\n",
              "      <td>1.000000</td>\n",
              "      <td>63390.000000</td>\n",
              "    </tr>\n",
              "    <tr>\n",
              "      <th>75%</th>\n",
              "      <td>51.000000</td>\n",
              "      <td>33.600000</td>\n",
              "      <td>2.000000</td>\n",
              "      <td>113611.000000</td>\n",
              "    </tr>\n",
              "    <tr>\n",
              "      <th>max</th>\n",
              "      <td>119.000000</td>\n",
              "      <td>52.100000</td>\n",
              "      <td>5.000000</td>\n",
              "      <td>442160.000000</td>\n",
              "    </tr>\n",
              "  </tbody>\n",
              "</table>\n",
              "</div>\n",
              "      <button class=\"colab-df-convert\" onclick=\"convertToInteractive('df-39bdc110-a975-416f-add0-d0ce10bf1b60')\"\n",
              "              title=\"Convert this dataframe to an interactive table.\"\n",
              "              style=\"display:none;\">\n",
              "        \n",
              "  <svg xmlns=\"http://www.w3.org/2000/svg\" height=\"24px\"viewBox=\"0 0 24 24\"\n",
              "       width=\"24px\">\n",
              "    <path d=\"M0 0h24v24H0V0z\" fill=\"none\"/>\n",
              "    <path d=\"M18.56 5.44l.94 2.06.94-2.06 2.06-.94-2.06-.94-.94-2.06-.94 2.06-2.06.94zm-11 1L8.5 8.5l.94-2.06 2.06-.94-2.06-.94L8.5 2.5l-.94 2.06-2.06.94zm10 10l.94 2.06.94-2.06 2.06-.94-2.06-.94-.94-2.06-.94 2.06-2.06.94z\"/><path d=\"M17.41 7.96l-1.37-1.37c-.4-.4-.92-.59-1.43-.59-.52 0-1.04.2-1.43.59L10.3 9.45l-7.72 7.72c-.78.78-.78 2.05 0 2.83L4 21.41c.39.39.9.59 1.41.59.51 0 1.02-.2 1.41-.59l7.78-7.78 2.81-2.81c.8-.78.8-2.07 0-2.86zM5.41 20L4 18.59l7.72-7.72 1.47 1.35L5.41 20z\"/>\n",
              "  </svg>\n",
              "      </button>\n",
              "      \n",
              "  <style>\n",
              "    .colab-df-container {\n",
              "      display:flex;\n",
              "      flex-wrap:wrap;\n",
              "      gap: 12px;\n",
              "    }\n",
              "\n",
              "    .colab-df-convert {\n",
              "      background-color: #E8F0FE;\n",
              "      border: none;\n",
              "      border-radius: 50%;\n",
              "      cursor: pointer;\n",
              "      display: none;\n",
              "      fill: #1967D2;\n",
              "      height: 32px;\n",
              "      padding: 0 0 0 0;\n",
              "      width: 32px;\n",
              "    }\n",
              "\n",
              "    .colab-df-convert:hover {\n",
              "      background-color: #E2EBFA;\n",
              "      box-shadow: 0px 1px 2px rgba(60, 64, 67, 0.3), 0px 1px 3px 1px rgba(60, 64, 67, 0.15);\n",
              "      fill: #174EA6;\n",
              "    }\n",
              "\n",
              "    [theme=dark] .colab-df-convert {\n",
              "      background-color: #3B4455;\n",
              "      fill: #D2E3FC;\n",
              "    }\n",
              "\n",
              "    [theme=dark] .colab-df-convert:hover {\n",
              "      background-color: #434B5C;\n",
              "      box-shadow: 0px 1px 3px 1px rgba(0, 0, 0, 0.15);\n",
              "      filter: drop-shadow(0px 1px 2px rgba(0, 0, 0, 0.3));\n",
              "      fill: #FFFFFF;\n",
              "    }\n",
              "  </style>\n",
              "\n",
              "      <script>\n",
              "        const buttonEl =\n",
              "          document.querySelector('#df-39bdc110-a975-416f-add0-d0ce10bf1b60 button.colab-df-convert');\n",
              "        buttonEl.style.display =\n",
              "          google.colab.kernel.accessAllowed ? 'block' : 'none';\n",
              "\n",
              "        async function convertToInteractive(key) {\n",
              "          const element = document.querySelector('#df-39bdc110-a975-416f-add0-d0ce10bf1b60');\n",
              "          const dataTable =\n",
              "            await google.colab.kernel.invokeFunction('convertToInteractive',\n",
              "                                                     [key], {});\n",
              "          if (!dataTable) return;\n",
              "\n",
              "          const docLinkHtml = 'Like what you see? Visit the ' +\n",
              "            '<a target=\"_blank\" href=https://colab.research.google.com/notebooks/data_table.ipynb>data table notebook</a>'\n",
              "            + ' to learn more about interactive tables.';\n",
              "          element.innerHTML = '';\n",
              "          dataTable['output_type'] = 'display_data';\n",
              "          await google.colab.output.renderOutput(dataTable, element);\n",
              "          const docLink = document.createElement('div');\n",
              "          docLink.innerHTML = docLinkHtml;\n",
              "          element.appendChild(docLink);\n",
              "        }\n",
              "      </script>\n",
              "    </div>\n",
              "  </div>\n",
              "  "
            ]
          },
          "metadata": {},
          "execution_count": 4
        }
      ]
    },
    {
      "cell_type": "code",
      "source": [
        "insurance_data[\"past claims\"].isnull().sum()"
      ],
      "metadata": {
        "colab": {
          "base_uri": "https://localhost:8080/"
        },
        "id": "rtxl4Q_q1D99",
        "outputId": "c37dd333-6211-443f-8fd6-9b40e59ffcbc"
      },
      "execution_count": null,
      "outputs": [
        {
          "output_type": "execute_result",
          "data": {
            "text/plain": [
              "3"
            ]
          },
          "metadata": {},
          "execution_count": 5
        }
      ]
    },
    {
      "cell_type": "markdown",
      "source": [
        "# Create Test Set"
      ],
      "metadata": {
        "id": "d6ICgaM3GAVw"
      }
    },
    {
      "cell_type": "code",
      "source": [
        "# remove past claims is NaN data\n",
        "insurance_data = insurance_data[insurance_data[\"past claims\"].notnull()]"
      ],
      "metadata": {
        "id": "PBvMoggPGiar"
      },
      "execution_count": null,
      "outputs": []
    },
    {
      "cell_type": "code",
      "source": [
        "# stratified sampling to avoid bias\n",
        "import numpy as np\n",
        "insurance_data[\"claims_cat\"] = pd.cut(insurance_data[\"past claims\"],\n",
        "                                  bins=[0., 30000.0, 60000.0, 90000.0, 120000.0, np.inf],\n",
        "                                  labels=[1,2,3,4,5])\n",
        "\n",
        "from sklearn.model_selection import train_test_split\n",
        "strat_train_set, strat_test_set = train_test_split(\n",
        "    insurance_data, test_size=0.2, stratify=insurance_data[\"claims_cat\"], random_state=42)"
      ],
      "metadata": {
        "id": "JksQfa_GGEHT",
        "colab": {
          "base_uri": "https://localhost:8080/"
        },
        "outputId": "5511a716-fb88-47c9-a0e6-f44c652b9102"
      },
      "execution_count": null,
      "outputs": [
        {
          "output_type": "stream",
          "name": "stderr",
          "text": [
            "<ipython-input-8-64fe150be8c4>:3: SettingWithCopyWarning: \n",
            "A value is trying to be set on a copy of a slice from a DataFrame.\n",
            "Try using .loc[row_indexer,col_indexer] = value instead\n",
            "\n",
            "See the caveats in the documentation: https://pandas.pydata.org/pandas-docs/stable/user_guide/indexing.html#returning-a-view-versus-a-copy\n",
            "  insurance_data[\"claims_cat\"] = pd.cut(insurance_data[\"past claims\"],\n"
          ]
        }
      ]
    },
    {
      "cell_type": "code",
      "source": [
        "for set_ in (strat_train_set, strat_test_set):\n",
        "    set_.drop(\"claims_cat\", axis=1, inplace=True)"
      ],
      "metadata": {
        "id": "_M_sKb6mIm8Z"
      },
      "execution_count": null,
      "outputs": []
    },
    {
      "cell_type": "markdown",
      "source": [
        "# Discover and Visualize the Data to Gain Insights"
      ],
      "metadata": {
        "id": "heYTcped7bFR"
      }
    },
    {
      "cell_type": "markdown",
      "source": [
        "## Data cleaning to study correlations"
      ],
      "metadata": {
        "id": "AVy1dpIZJr9B"
      }
    },
    {
      "cell_type": "code",
      "source": [
        "insurance_data_cleaning = insurance_data.copy()"
      ],
      "metadata": {
        "id": "lxlwi_AG_eG6"
      },
      "execution_count": null,
      "outputs": []
    },
    {
      "cell_type": "code",
      "source": [
        "## change attribute to numerical data for linear regression\n",
        "insurance_data_cleaning[\"children\"] = insurance_data_cleaning[\"children\"].fillna(0)"
      ],
      "metadata": {
        "id": "RZL22YbE7yKb"
      },
      "execution_count": null,
      "outputs": []
    },
    {
      "cell_type": "code",
      "source": [
        "# ordinalencoder sex, smoker, drinking\n",
        "from sklearn.preprocessing import OrdinalEncoder\n",
        "sex_encoder = OrdinalEncoder(categories=[['male','female']])\n",
        "smoker_encoder = OrdinalEncoder(categories=[['no','yes']])\n",
        "drinking_encoder = OrdinalEncoder(categories=[['no','occasional','frequent']])\n",
        "sex = insurance_data_cleaning[[\"sex\"]]\n",
        "smoker = insurance_data_cleaning[[\"smoker\"]]\n",
        "drinking = insurance_data_cleaning[[\"drinking\"]]\n",
        "sex_encoded = sex_encoder.fit_transform(sex)\n",
        "smoker_encoded = smoker_encoder.fit_transform(smoker)\n",
        "drinking_encoded = drinking_encoder.fit_transform(drinking)"
      ],
      "metadata": {
        "id": "gITxXpZY98PI"
      },
      "execution_count": null,
      "outputs": []
    },
    {
      "cell_type": "code",
      "source": [
        "insurance_data_cleaning[\"sex\"] = sex_encoded\n",
        "insurance_data_cleaning[\"smoker\"] = smoker_encoded\n",
        "insurance_data_cleaning[\"drinking\"] = drinking_encoded"
      ],
      "metadata": {
        "id": "pw5r5ie898Rb"
      },
      "execution_count": null,
      "outputs": []
    },
    {
      "cell_type": "code",
      "source": [
        "from sklearn.preprocessing import OneHotEncoder\n",
        "\n",
        "home_encoder = OneHotEncoder()\n",
        "home = insurance_data_cleaning[[\"home\"]]\n",
        "home_encoded = home_encoder.fit_transform(home)"
      ],
      "metadata": {
        "id": "mAYpcKFlAq7Z"
      },
      "execution_count": null,
      "outputs": []
    },
    {
      "cell_type": "code",
      "source": [
        "home_encoded = home_encoded.toarray()"
      ],
      "metadata": {
        "id": "YUXb-LwdWyM9"
      },
      "execution_count": null,
      "outputs": []
    },
    {
      "cell_type": "code",
      "source": [
        "home_encoded.shape"
      ],
      "metadata": {
        "colab": {
          "base_uri": "https://localhost:8080/"
        },
        "id": "L2MDQtFxPUVx",
        "outputId": "18dd9e43-aece-4e64-9af8-b2fdb6ae6284"
      },
      "execution_count": null,
      "outputs": [
        {
          "output_type": "execute_result",
          "data": {
            "text/plain": [
              "(1338, 4)"
            ]
          },
          "metadata": {},
          "execution_count": 16
        }
      ]
    },
    {
      "cell_type": "code",
      "source": [
        "home_encoder.categories_"
      ],
      "metadata": {
        "colab": {
          "base_uri": "https://localhost:8080/"
        },
        "id": "DlDDLbSGN3jI",
        "outputId": "11cd3a6b-e537-4b0a-9f7c-31d2359a3c97"
      },
      "execution_count": null,
      "outputs": [
        {
          "output_type": "execute_result",
          "data": {
            "text/plain": [
              "[array(['Hong Kong Island', 'Kowloon', 'North NT', 'South NT'],\n",
              "       dtype=object)]"
            ]
          },
          "metadata": {},
          "execution_count": 17
        }
      ]
    },
    {
      "cell_type": "code",
      "source": [
        "insurance_data_cleaning.drop([\"home\"], axis=1)\n",
        "insurance_data_cleaning[['Hong Kong Island', 'Kowloon', 'North NT', 'South NT']] = home_encoded"
      ],
      "metadata": {
        "id": "eo_G9i8IMoLB"
      },
      "execution_count": null,
      "outputs": []
    },
    {
      "cell_type": "code",
      "source": [
        "insurance_data_cleaning"
      ],
      "metadata": {
        "colab": {
          "base_uri": "https://localhost:8080/",
          "height": 748
        },
        "id": "13TSRUPVQZoo",
        "outputId": "d744813a-32cf-4b4e-e1fb-586af8bc61c2"
      },
      "execution_count": null,
      "outputs": [
        {
          "output_type": "execute_result",
          "data": {
            "text/plain": [
              "       age  sex              home   bmi  children  smoker  drinking  \\\n",
              "0     49.0  1.0           Kowloon  32.3       2.0     0.0       0.0   \n",
              "1     55.0  1.0          South NT  29.5       2.0     0.0       1.0   \n",
              "2     53.0  1.0          North NT  26.0       0.0     0.0       2.0   \n",
              "3     19.0  0.0  Hong Kong Island  33.2       0.0     0.0       1.0   \n",
              "4     59.0  0.0  Hong Kong Island  36.5       1.0     0.0       2.0   \n",
              "...    ...  ...               ...   ...       ...     ...       ...   \n",
              "1333  19.0  1.0  Hong Kong Island  31.8       0.0     0.0       0.0   \n",
              "1334  54.0  0.0          North NT  32.4       1.0     0.0       1.0   \n",
              "1335  30.0  0.0          North NT  27.9       3.0     1.0       1.0   \n",
              "1336  56.0  0.0  Hong Kong Island  38.5       0.0     0.0       0.0   \n",
              "1337  24.0  1.0          North NT  32.1       0.0     0.0       1.0   \n",
              "\n",
              "      past claims claims_cat  Hong Kong Island  Kowloon  North NT  South NT  \n",
              "0         72433.0          3               0.0      1.0       0.0       0.0  \n",
              "1         79358.0          3               0.0      0.0       0.0       1.0  \n",
              "2         67628.0          3               0.0      0.0       1.0       0.0  \n",
              "3          7020.0          1               1.0      0.0       0.0       0.0  \n",
              "4         82368.0          3               1.0      0.0       0.0       0.0  \n",
              "...           ...        ...               ...      ...       ...       ...  \n",
              "1333      11676.0          1               1.0      0.0       0.0       0.0  \n",
              "1334      74355.0          3               0.0      0.0       1.0       0.0  \n",
              "1335     142256.0          5               0.0      0.0       1.0       0.0  \n",
              "1336      73688.0          3               1.0      0.0       0.0       0.0  \n",
              "1337      17955.0          1               0.0      0.0       1.0       0.0  \n",
              "\n",
              "[1338 rows x 13 columns]"
            ],
            "text/html": [
              "\n",
              "  <div id=\"df-c5e14118-b76f-4855-8608-049685a1c905\">\n",
              "    <div class=\"colab-df-container\">\n",
              "      <div>\n",
              "<style scoped>\n",
              "    .dataframe tbody tr th:only-of-type {\n",
              "        vertical-align: middle;\n",
              "    }\n",
              "\n",
              "    .dataframe tbody tr th {\n",
              "        vertical-align: top;\n",
              "    }\n",
              "\n",
              "    .dataframe thead th {\n",
              "        text-align: right;\n",
              "    }\n",
              "</style>\n",
              "<table border=\"1\" class=\"dataframe\">\n",
              "  <thead>\n",
              "    <tr style=\"text-align: right;\">\n",
              "      <th></th>\n",
              "      <th>age</th>\n",
              "      <th>sex</th>\n",
              "      <th>home</th>\n",
              "      <th>bmi</th>\n",
              "      <th>children</th>\n",
              "      <th>smoker</th>\n",
              "      <th>drinking</th>\n",
              "      <th>past claims</th>\n",
              "      <th>claims_cat</th>\n",
              "      <th>Hong Kong Island</th>\n",
              "      <th>Kowloon</th>\n",
              "      <th>North NT</th>\n",
              "      <th>South NT</th>\n",
              "    </tr>\n",
              "  </thead>\n",
              "  <tbody>\n",
              "    <tr>\n",
              "      <th>0</th>\n",
              "      <td>49.0</td>\n",
              "      <td>1.0</td>\n",
              "      <td>Kowloon</td>\n",
              "      <td>32.3</td>\n",
              "      <td>2.0</td>\n",
              "      <td>0.0</td>\n",
              "      <td>0.0</td>\n",
              "      <td>72433.0</td>\n",
              "      <td>3</td>\n",
              "      <td>0.0</td>\n",
              "      <td>1.0</td>\n",
              "      <td>0.0</td>\n",
              "      <td>0.0</td>\n",
              "    </tr>\n",
              "    <tr>\n",
              "      <th>1</th>\n",
              "      <td>55.0</td>\n",
              "      <td>1.0</td>\n",
              "      <td>South NT</td>\n",
              "      <td>29.5</td>\n",
              "      <td>2.0</td>\n",
              "      <td>0.0</td>\n",
              "      <td>1.0</td>\n",
              "      <td>79358.0</td>\n",
              "      <td>3</td>\n",
              "      <td>0.0</td>\n",
              "      <td>0.0</td>\n",
              "      <td>0.0</td>\n",
              "      <td>1.0</td>\n",
              "    </tr>\n",
              "    <tr>\n",
              "      <th>2</th>\n",
              "      <td>53.0</td>\n",
              "      <td>1.0</td>\n",
              "      <td>North NT</td>\n",
              "      <td>26.0</td>\n",
              "      <td>0.0</td>\n",
              "      <td>0.0</td>\n",
              "      <td>2.0</td>\n",
              "      <td>67628.0</td>\n",
              "      <td>3</td>\n",
              "      <td>0.0</td>\n",
              "      <td>0.0</td>\n",
              "      <td>1.0</td>\n",
              "      <td>0.0</td>\n",
              "    </tr>\n",
              "    <tr>\n",
              "      <th>3</th>\n",
              "      <td>19.0</td>\n",
              "      <td>0.0</td>\n",
              "      <td>Hong Kong Island</td>\n",
              "      <td>33.2</td>\n",
              "      <td>0.0</td>\n",
              "      <td>0.0</td>\n",
              "      <td>1.0</td>\n",
              "      <td>7020.0</td>\n",
              "      <td>1</td>\n",
              "      <td>1.0</td>\n",
              "      <td>0.0</td>\n",
              "      <td>0.0</td>\n",
              "      <td>0.0</td>\n",
              "    </tr>\n",
              "    <tr>\n",
              "      <th>4</th>\n",
              "      <td>59.0</td>\n",
              "      <td>0.0</td>\n",
              "      <td>Hong Kong Island</td>\n",
              "      <td>36.5</td>\n",
              "      <td>1.0</td>\n",
              "      <td>0.0</td>\n",
              "      <td>2.0</td>\n",
              "      <td>82368.0</td>\n",
              "      <td>3</td>\n",
              "      <td>1.0</td>\n",
              "      <td>0.0</td>\n",
              "      <td>0.0</td>\n",
              "      <td>0.0</td>\n",
              "    </tr>\n",
              "    <tr>\n",
              "      <th>...</th>\n",
              "      <td>...</td>\n",
              "      <td>...</td>\n",
              "      <td>...</td>\n",
              "      <td>...</td>\n",
              "      <td>...</td>\n",
              "      <td>...</td>\n",
              "      <td>...</td>\n",
              "      <td>...</td>\n",
              "      <td>...</td>\n",
              "      <td>...</td>\n",
              "      <td>...</td>\n",
              "      <td>...</td>\n",
              "      <td>...</td>\n",
              "    </tr>\n",
              "    <tr>\n",
              "      <th>1333</th>\n",
              "      <td>19.0</td>\n",
              "      <td>1.0</td>\n",
              "      <td>Hong Kong Island</td>\n",
              "      <td>31.8</td>\n",
              "      <td>0.0</td>\n",
              "      <td>0.0</td>\n",
              "      <td>0.0</td>\n",
              "      <td>11676.0</td>\n",
              "      <td>1</td>\n",
              "      <td>1.0</td>\n",
              "      <td>0.0</td>\n",
              "      <td>0.0</td>\n",
              "      <td>0.0</td>\n",
              "    </tr>\n",
              "    <tr>\n",
              "      <th>1334</th>\n",
              "      <td>54.0</td>\n",
              "      <td>0.0</td>\n",
              "      <td>North NT</td>\n",
              "      <td>32.4</td>\n",
              "      <td>1.0</td>\n",
              "      <td>0.0</td>\n",
              "      <td>1.0</td>\n",
              "      <td>74355.0</td>\n",
              "      <td>3</td>\n",
              "      <td>0.0</td>\n",
              "      <td>0.0</td>\n",
              "      <td>1.0</td>\n",
              "      <td>0.0</td>\n",
              "    </tr>\n",
              "    <tr>\n",
              "      <th>1335</th>\n",
              "      <td>30.0</td>\n",
              "      <td>0.0</td>\n",
              "      <td>North NT</td>\n",
              "      <td>27.9</td>\n",
              "      <td>3.0</td>\n",
              "      <td>1.0</td>\n",
              "      <td>1.0</td>\n",
              "      <td>142256.0</td>\n",
              "      <td>5</td>\n",
              "      <td>0.0</td>\n",
              "      <td>0.0</td>\n",
              "      <td>1.0</td>\n",
              "      <td>0.0</td>\n",
              "    </tr>\n",
              "    <tr>\n",
              "      <th>1336</th>\n",
              "      <td>56.0</td>\n",
              "      <td>0.0</td>\n",
              "      <td>Hong Kong Island</td>\n",
              "      <td>38.5</td>\n",
              "      <td>0.0</td>\n",
              "      <td>0.0</td>\n",
              "      <td>0.0</td>\n",
              "      <td>73688.0</td>\n",
              "      <td>3</td>\n",
              "      <td>1.0</td>\n",
              "      <td>0.0</td>\n",
              "      <td>0.0</td>\n",
              "      <td>0.0</td>\n",
              "    </tr>\n",
              "    <tr>\n",
              "      <th>1337</th>\n",
              "      <td>24.0</td>\n",
              "      <td>1.0</td>\n",
              "      <td>North NT</td>\n",
              "      <td>32.1</td>\n",
              "      <td>0.0</td>\n",
              "      <td>0.0</td>\n",
              "      <td>1.0</td>\n",
              "      <td>17955.0</td>\n",
              "      <td>1</td>\n",
              "      <td>0.0</td>\n",
              "      <td>0.0</td>\n",
              "      <td>1.0</td>\n",
              "      <td>0.0</td>\n",
              "    </tr>\n",
              "  </tbody>\n",
              "</table>\n",
              "<p>1338 rows × 13 columns</p>\n",
              "</div>\n",
              "      <button class=\"colab-df-convert\" onclick=\"convertToInteractive('df-c5e14118-b76f-4855-8608-049685a1c905')\"\n",
              "              title=\"Convert this dataframe to an interactive table.\"\n",
              "              style=\"display:none;\">\n",
              "        \n",
              "  <svg xmlns=\"http://www.w3.org/2000/svg\" height=\"24px\"viewBox=\"0 0 24 24\"\n",
              "       width=\"24px\">\n",
              "    <path d=\"M0 0h24v24H0V0z\" fill=\"none\"/>\n",
              "    <path d=\"M18.56 5.44l.94 2.06.94-2.06 2.06-.94-2.06-.94-.94-2.06-.94 2.06-2.06.94zm-11 1L8.5 8.5l.94-2.06 2.06-.94-2.06-.94L8.5 2.5l-.94 2.06-2.06.94zm10 10l.94 2.06.94-2.06 2.06-.94-2.06-.94-.94-2.06-.94 2.06-2.06.94z\"/><path d=\"M17.41 7.96l-1.37-1.37c-.4-.4-.92-.59-1.43-.59-.52 0-1.04.2-1.43.59L10.3 9.45l-7.72 7.72c-.78.78-.78 2.05 0 2.83L4 21.41c.39.39.9.59 1.41.59.51 0 1.02-.2 1.41-.59l7.78-7.78 2.81-2.81c.8-.78.8-2.07 0-2.86zM5.41 20L4 18.59l7.72-7.72 1.47 1.35L5.41 20z\"/>\n",
              "  </svg>\n",
              "      </button>\n",
              "      \n",
              "  <style>\n",
              "    .colab-df-container {\n",
              "      display:flex;\n",
              "      flex-wrap:wrap;\n",
              "      gap: 12px;\n",
              "    }\n",
              "\n",
              "    .colab-df-convert {\n",
              "      background-color: #E8F0FE;\n",
              "      border: none;\n",
              "      border-radius: 50%;\n",
              "      cursor: pointer;\n",
              "      display: none;\n",
              "      fill: #1967D2;\n",
              "      height: 32px;\n",
              "      padding: 0 0 0 0;\n",
              "      width: 32px;\n",
              "    }\n",
              "\n",
              "    .colab-df-convert:hover {\n",
              "      background-color: #E2EBFA;\n",
              "      box-shadow: 0px 1px 2px rgba(60, 64, 67, 0.3), 0px 1px 3px 1px rgba(60, 64, 67, 0.15);\n",
              "      fill: #174EA6;\n",
              "    }\n",
              "\n",
              "    [theme=dark] .colab-df-convert {\n",
              "      background-color: #3B4455;\n",
              "      fill: #D2E3FC;\n",
              "    }\n",
              "\n",
              "    [theme=dark] .colab-df-convert:hover {\n",
              "      background-color: #434B5C;\n",
              "      box-shadow: 0px 1px 3px 1px rgba(0, 0, 0, 0.15);\n",
              "      filter: drop-shadow(0px 1px 2px rgba(0, 0, 0, 0.3));\n",
              "      fill: #FFFFFF;\n",
              "    }\n",
              "  </style>\n",
              "\n",
              "      <script>\n",
              "        const buttonEl =\n",
              "          document.querySelector('#df-c5e14118-b76f-4855-8608-049685a1c905 button.colab-df-convert');\n",
              "        buttonEl.style.display =\n",
              "          google.colab.kernel.accessAllowed ? 'block' : 'none';\n",
              "\n",
              "        async function convertToInteractive(key) {\n",
              "          const element = document.querySelector('#df-c5e14118-b76f-4855-8608-049685a1c905');\n",
              "          const dataTable =\n",
              "            await google.colab.kernel.invokeFunction('convertToInteractive',\n",
              "                                                     [key], {});\n",
              "          if (!dataTable) return;\n",
              "\n",
              "          const docLinkHtml = 'Like what you see? Visit the ' +\n",
              "            '<a target=\"_blank\" href=https://colab.research.google.com/notebooks/data_table.ipynb>data table notebook</a>'\n",
              "            + ' to learn more about interactive tables.';\n",
              "          element.innerHTML = '';\n",
              "          dataTable['output_type'] = 'display_data';\n",
              "          await google.colab.output.renderOutput(dataTable, element);\n",
              "          const docLink = document.createElement('div');\n",
              "          docLink.innerHTML = docLinkHtml;\n",
              "          element.appendChild(docLink);\n",
              "        }\n",
              "      </script>\n",
              "    </div>\n",
              "  </div>\n",
              "  "
            ]
          },
          "metadata": {},
          "execution_count": 19
        }
      ]
    },
    {
      "cell_type": "markdown",
      "source": [
        "## Looking for Correlations"
      ],
      "metadata": {
        "id": "kx6QcGlBQGtW"
      }
    },
    {
      "cell_type": "code",
      "source": [
        "corr_matrix = insurance_data_cleaning.corr()"
      ],
      "metadata": {
        "id": "fYhtWRqDMrqE"
      },
      "execution_count": null,
      "outputs": []
    },
    {
      "cell_type": "code",
      "source": [
        "corr_matrix[\"past claims\"].sort_values(ascending=False)"
      ],
      "metadata": {
        "colab": {
          "base_uri": "https://localhost:8080/"
        },
        "id": "V9jY6ElnQOT2",
        "outputId": "e5891c3b-5c77-4e0e-c0ed-6fdc72cf1536"
      },
      "execution_count": null,
      "outputs": [
        {
          "output_type": "execute_result",
          "data": {
            "text/plain": [
              "past claims         1.000000\n",
              "smoker              0.787411\n",
              "age                 0.290948\n",
              "bmi                 0.198060\n",
              "South NT            0.074435\n",
              "children            0.068725\n",
              "Kowloon             0.006248\n",
              "drinking           -0.007813\n",
              "North NT           -0.040564\n",
              "Hong Kong Island   -0.042921\n",
              "sex                -0.057878\n",
              "Name: past claims, dtype: float64"
            ]
          },
          "metadata": {},
          "execution_count": 21
        }
      ]
    },
    {
      "cell_type": "code",
      "source": [
        "from pandas.plotting import scatter_matrix\n",
        "import matplotlib.pyplot as plt\n",
        "\n",
        "\n",
        "attributes = [\"past claims\", \"smoker\", \"age\", \"bmi\",\n",
        "              \"children\", \"South NT\", \"Kowloon\", \"North NT\",\n",
        "              \"Hong Kong Island\", \"sex\", \"drinking\"]\n",
        "scatter_matrix(insurance_data_cleaning[attributes], figsize=(12, 8))\n",
        "plt.show()"
      ],
      "metadata": {
        "colab": {
          "base_uri": "https://localhost:8080/",
          "height": 500
        },
        "id": "uKI-XSx3Sfps",
        "outputId": "dc516685-22bf-493f-9cea-73ee37ecb767"
      },
      "execution_count": null,
      "outputs": [
        {
          "output_type": "display_data",
          "data": {
            "text/plain": [
              "<Figure size 864x576 with 121 Axes>"
            ],
            "image/png": "[encoded data removed]"
          },
          "metadata": {
            "needs_background": "light"
          }
        }
      ]
    },
    {
      "cell_type": "markdown",
      "source": [
        "# Data preprocesssing"
      ],
      "metadata": {
        "id": "D5bYv67N07Je"
      }
    },
    {
      "cell_type": "markdown",
      "source": [
        "revert to the original training set and separate the target"
      ],
      "metadata": {
        "id": "z7dk6935U3tm"
      }
    },
    {
      "cell_type": "code",
      "source": [
        "insurance = strat_train_set.drop(\"past claims\", axis=1)\n",
        "insurance_labels = strat_train_set[\"past claims\"].copy()"
      ],
      "metadata": {
        "id": "MiLuRkTv1Ai7"
      },
      "execution_count": null,
      "outputs": []
    },
    {
      "cell_type": "markdown",
      "source": [
        "## Data Cleaning"
      ],
      "metadata": {
        "id": "GsCQTxccVMSC"
      }
    },
    {
      "cell_type": "code",
      "source": [
        "insurance_num = insurance.select_dtypes(include=[np.number])"
      ],
      "metadata": {
        "id": "1z1EF37OVyB0"
      },
      "execution_count": null,
      "outputs": []
    },
    {
      "cell_type": "code",
      "source": [
        "# check for none value in numerical fields\n",
        "insurance_num[insurance_num.isnull().any(axis=1)]"
      ],
      "metadata": {
        "colab": {
          "base_uri": "https://localhost:8080/",
          "height": 143
        },
        "id": "ME235itOWuQK",
        "outputId": "7c4eca6f-d0db-4ed9-bed4-d5111ddca567"
      },
      "execution_count": null,
      "outputs": [
        {
          "output_type": "execute_result",
          "data": {
            "text/plain": [
              "       age   bmi  children\n",
              "464   61.0  38.4       NaN\n",
              "1317  55.0  31.7       NaN\n",
              "1077  22.0  34.1       NaN"
            ],
            "text/html": [
              "\n",
              "  <div id=\"df-be777b11-c240-4be3-9fbc-f6e7703618f1\">\n",
              "    <div class=\"colab-df-container\">\n",
              "      <div>\n",
              "<style scoped>\n",
              "    .dataframe tbody tr th:only-of-type {\n",
              "        vertical-align: middle;\n",
              "    }\n",
              "\n",
              "    .dataframe tbody tr th {\n",
              "        vertical-align: top;\n",
              "    }\n",
              "\n",
              "    .dataframe thead th {\n",
              "        text-align: right;\n",
              "    }\n",
              "</style>\n",
              "<table border=\"1\" class=\"dataframe\">\n",
              "  <thead>\n",
              "    <tr style=\"text-align: right;\">\n",
              "      <th></th>\n",
              "      <th>age</th>\n",
              "      <th>bmi</th>\n",
              "      <th>children</th>\n",
              "    </tr>\n",
              "  </thead>\n",
              "  <tbody>\n",
              "    <tr>\n",
              "      <th>464</th>\n",
              "      <td>61.0</td>\n",
              "      <td>38.4</td>\n",
              "      <td>NaN</td>\n",
              "    </tr>\n",
              "    <tr>\n",
              "      <th>1317</th>\n",
              "      <td>55.0</td>\n",
              "      <td>31.7</td>\n",
              "      <td>NaN</td>\n",
              "    </tr>\n",
              "    <tr>\n",
              "      <th>1077</th>\n",
              "      <td>22.0</td>\n",
              "      <td>34.1</td>\n",
              "      <td>NaN</td>\n",
              "    </tr>\n",
              "  </tbody>\n",
              "</table>\n",
              "</div>\n",
              "      <button class=\"colab-df-convert\" onclick=\"convertToInteractive('df-be777b11-c240-4be3-9fbc-f6e7703618f1')\"\n",
              "              title=\"Convert this dataframe to an interactive table.\"\n",
              "              style=\"display:none;\">\n",
              "        \n",
              "  <svg xmlns=\"http://www.w3.org/2000/svg\" height=\"24px\"viewBox=\"0 0 24 24\"\n",
              "       width=\"24px\">\n",
              "    <path d=\"M0 0h24v24H0V0z\" fill=\"none\"/>\n",
              "    <path d=\"M18.56 5.44l.94 2.06.94-2.06 2.06-.94-2.06-.94-.94-2.06-.94 2.06-2.06.94zm-11 1L8.5 8.5l.94-2.06 2.06-.94-2.06-.94L8.5 2.5l-.94 2.06-2.06.94zm10 10l.94 2.06.94-2.06 2.06-.94-2.06-.94-.94-2.06-.94 2.06-2.06.94z\"/><path d=\"M17.41 7.96l-1.37-1.37c-.4-.4-.92-.59-1.43-.59-.52 0-1.04.2-1.43.59L10.3 9.45l-7.72 7.72c-.78.78-.78 2.05 0 2.83L4 21.41c.39.39.9.59 1.41.59.51 0 1.02-.2 1.41-.59l7.78-7.78 2.81-2.81c.8-.78.8-2.07 0-2.86zM5.41 20L4 18.59l7.72-7.72 1.47 1.35L5.41 20z\"/>\n",
              "  </svg>\n",
              "      </button>\n",
              "      \n",
              "  <style>\n",
              "    .colab-df-container {\n",
              "      display:flex;\n",
              "      flex-wrap:wrap;\n",
              "      gap: 12px;\n",
              "    }\n",
              "\n",
              "    .colab-df-convert {\n",
              "      background-color: #E8F0FE;\n",
              "      border: none;\n",
              "      border-radius: 50%;\n",
              "      cursor: pointer;\n",
              "      display: none;\n",
              "      fill: #1967D2;\n",
              "      height: 32px;\n",
              "      padding: 0 0 0 0;\n",
              "      width: 32px;\n",
              "    }\n",
              "\n",
              "    .colab-df-convert:hover {\n",
              "      background-color: #E2EBFA;\n",
              "      box-shadow: 0px 1px 2px rgba(60, 64, 67, 0.3), 0px 1px 3px 1px rgba(60, 64, 67, 0.15);\n",
              "      fill: #174EA6;\n",
              "    }\n",
              "\n",
              "    [theme=dark] .colab-df-convert {\n",
              "      background-color: #3B4455;\n",
              "      fill: #D2E3FC;\n",
              "    }\n",
              "\n",
              "    [theme=dark] .colab-df-convert:hover {\n",
              "      background-color: #434B5C;\n",
              "      box-shadow: 0px 1px 3px 1px rgba(0, 0, 0, 0.15);\n",
              "      filter: drop-shadow(0px 1px 2px rgba(0, 0, 0, 0.3));\n",
              "      fill: #FFFFFF;\n",
              "    }\n",
              "  </style>\n",
              "\n",
              "      <script>\n",
              "        const buttonEl =\n",
              "          document.querySelector('#df-be777b11-c240-4be3-9fbc-f6e7703618f1 button.colab-df-convert');\n",
              "        buttonEl.style.display =\n",
              "          google.colab.kernel.accessAllowed ? 'block' : 'none';\n",
              "\n",
              "        async function convertToInteractive(key) {\n",
              "          const element = document.querySelector('#df-be777b11-c240-4be3-9fbc-f6e7703618f1');\n",
              "          const dataTable =\n",
              "            await google.colab.kernel.invokeFunction('convertToInteractive',\n",
              "                                                     [key], {});\n",
              "          if (!dataTable) return;\n",
              "\n",
              "          const docLinkHtml = 'Like what you see? Visit the ' +\n",
              "            '<a target=\"_blank\" href=https://colab.research.google.com/notebooks/data_table.ipynb>data table notebook</a>'\n",
              "            + ' to learn more about interactive tables.';\n",
              "          element.innerHTML = '';\n",
              "          dataTable['output_type'] = 'display_data';\n",
              "          await google.colab.output.renderOutput(dataTable, element);\n",
              "          const docLink = document.createElement('div');\n",
              "          docLink.innerHTML = docLinkHtml;\n",
              "          element.appendChild(docLink);\n",
              "        }\n",
              "      </script>\n",
              "    </div>\n",
              "  </div>\n",
              "  "
            ]
          },
          "metadata": {},
          "execution_count": 25
        }
      ]
    },
    {
      "cell_type": "code",
      "source": [
        "# remove NaN data\n",
        "# insurance_data = insurance_data[insurance_data[\"past claims\"].notnull()]\n",
        "insurance[\"children\"] = insurance[\"children\"].fillna(0) # Option 3 – set the values to some value"
      ],
      "metadata": {
        "id": "1o02-6gzVT60"
      },
      "execution_count": null,
      "outputs": []
    },
    {
      "cell_type": "code",
      "source": [
        "from sklearn.impute import SimpleImputer\n",
        "imputer = SimpleImputer(strategy=\"constant\", fill_value=0)\n",
        "\n",
        "imputer.fit(insurance_num)\n",
        "imputer.statistics_"
      ],
      "metadata": {
        "colab": {
          "base_uri": "https://localhost:8080/"
        },
        "id": "XKCF9uEXbGES",
        "outputId": "c55faff4-c8fb-47e8-d97e-60fb44ce7ee8"
      },
      "execution_count": null,
      "outputs": [
        {
          "output_type": "execute_result",
          "data": {
            "text/plain": [
              "array([0., 0., 0.])"
            ]
          },
          "metadata": {},
          "execution_count": 27
        }
      ]
    },
    {
      "cell_type": "markdown",
      "source": [
        "## Handling Text and Categorical Attributes"
      ],
      "metadata": {
        "id": "wJBkqidTXdZ_"
      }
    },
    {
      "cell_type": "code",
      "source": [
        "insurance_cat = insurance[[\"sex\", \"smoker\", \"drinking\", \"home\"]]\n",
        "insurance_cat_ordinal = insurance[[\"sex\", \"smoker\", \"drinking\", \"home\"]]\n",
        "insurance_cat_1hot = insurance[[\"home\"]]\n",
        "insurance_cat\n",
        "# will use ordinal encoder on sex, smoker and drinking, one hot encoding on home\n",
        "# please refer to Data cleaning to study correlations under Discover and Visualize the Data to Gain Insights"
      ],
      "metadata": {
        "colab": {
          "base_uri": "https://localhost:8080/",
          "height": 423
        },
        "id": "gcm5UCILXiUu",
        "outputId": "5869f38e-e368-48f7-acbf-dbaa6768a6a4"
      },
      "execution_count": null,
      "outputs": [
        {
          "output_type": "execute_result",
          "data": {
            "text/plain": [
              "         sex smoker    drinking              home\n",
              "902     male    yes  occasional          South NT\n",
              "612   female     no  occasional          South NT\n",
              "611   female     no  occasional  Hong Kong Island\n",
              "1139    male     no    frequent  Hong Kong Island\n",
              "577   female     no  occasional          North NT\n",
              "...      ...    ...         ...               ...\n",
              "1023    male     no  occasional          North NT\n",
              "821     male     no          no           Kowloon\n",
              "1093    male    yes  occasional          South NT\n",
              "729   female    yes  occasional          South NT\n",
              "1141  female    yes  occasional          North NT\n",
              "\n",
              "[1070 rows x 4 columns]"
            ],
            "text/html": [
              "\n",
              "  <div id=\"df-19671762-6ade-4b0d-9001-bc2186b616aa\">\n",
              "    <div class=\"colab-df-container\">\n",
              "      <div>\n",
              "<style scoped>\n",
              "    .dataframe tbody tr th:only-of-type {\n",
              "        vertical-align: middle;\n",
              "    }\n",
              "\n",
              "    .dataframe tbody tr th {\n",
              "        vertical-align: top;\n",
              "    }\n",
              "\n",
              "    .dataframe thead th {\n",
              "        text-align: right;\n",
              "    }\n",
              "</style>\n",
              "<table border=\"1\" class=\"dataframe\">\n",
              "  <thead>\n",
              "    <tr style=\"text-align: right;\">\n",
              "      <th></th>\n",
              "      <th>sex</th>\n",
              "      <th>smoker</th>\n",
              "      <th>drinking</th>\n",
              "      <th>home</th>\n",
              "    </tr>\n",
              "  </thead>\n",
              "  <tbody>\n",
              "    <tr>\n",
              "      <th>902</th>\n",
              "      <td>male</td>\n",
              "      <td>yes</td>\n",
              "      <td>occasional</td>\n",
              "      <td>South NT</td>\n",
              "    </tr>\n",
              "    <tr>\n",
              "      <th>612</th>\n",
              "      <td>female</td>\n",
              "      <td>no</td>\n",
              "      <td>occasional</td>\n",
              "      <td>South NT</td>\n",
              "    </tr>\n",
              "    <tr>\n",
              "      <th>611</th>\n",
              "      <td>female</td>\n",
              "      <td>no</td>\n",
              "      <td>occasional</td>\n",
              "      <td>Hong Kong Island</td>\n",
              "    </tr>\n",
              "    <tr>\n",
              "      <th>1139</th>\n",
              "      <td>male</td>\n",
              "      <td>no</td>\n",
              "      <td>frequent</td>\n",
              "      <td>Hong Kong Island</td>\n",
              "    </tr>\n",
              "    <tr>\n",
              "      <th>577</th>\n",
              "      <td>female</td>\n",
              "      <td>no</td>\n",
              "      <td>occasional</td>\n",
              "      <td>North NT</td>\n",
              "    </tr>\n",
              "    <tr>\n",
              "      <th>...</th>\n",
              "      <td>...</td>\n",
              "      <td>...</td>\n",
              "      <td>...</td>\n",
              "      <td>...</td>\n",
              "    </tr>\n",
              "    <tr>\n",
              "      <th>1023</th>\n",
              "      <td>male</td>\n",
              "      <td>no</td>\n",
              "      <td>occasional</td>\n",
              "      <td>North NT</td>\n",
              "    </tr>\n",
              "    <tr>\n",
              "      <th>821</th>\n",
              "      <td>male</td>\n",
              "      <td>no</td>\n",
              "      <td>no</td>\n",
              "      <td>Kowloon</td>\n",
              "    </tr>\n",
              "    <tr>\n",
              "      <th>1093</th>\n",
              "      <td>male</td>\n",
              "      <td>yes</td>\n",
              "      <td>occasional</td>\n",
              "      <td>South NT</td>\n",
              "    </tr>\n",
              "    <tr>\n",
              "      <th>729</th>\n",
              "      <td>female</td>\n",
              "      <td>yes</td>\n",
              "      <td>occasional</td>\n",
              "      <td>South NT</td>\n",
              "    </tr>\n",
              "    <tr>\n",
              "      <th>1141</th>\n",
              "      <td>female</td>\n",
              "      <td>yes</td>\n",
              "      <td>occasional</td>\n",
              "      <td>North NT</td>\n",
              "    </tr>\n",
              "  </tbody>\n",
              "</table>\n",
              "<p>1070 rows × 4 columns</p>\n",
              "</div>\n",
              "      <button class=\"colab-df-convert\" onclick=\"convertToInteractive('df-19671762-6ade-4b0d-9001-bc2186b616aa')\"\n",
              "              title=\"Convert this dataframe to an interactive table.\"\n",
              "              style=\"display:none;\">\n",
              "        \n",
              "  <svg xmlns=\"http://www.w3.org/2000/svg\" height=\"24px\"viewBox=\"0 0 24 24\"\n",
              "       width=\"24px\">\n",
              "    <path d=\"M0 0h24v24H0V0z\" fill=\"none\"/>\n",
              "    <path d=\"M18.56 5.44l.94 2.06.94-2.06 2.06-.94-2.06-.94-.94-2.06-.94 2.06-2.06.94zm-11 1L8.5 8.5l.94-2.06 2.06-.94-2.06-.94L8.5 2.5l-.94 2.06-2.06.94zm10 10l.94 2.06.94-2.06 2.06-.94-2.06-.94-.94-2.06-.94 2.06-2.06.94z\"/><path d=\"M17.41 7.96l-1.37-1.37c-.4-.4-.92-.59-1.43-.59-.52 0-1.04.2-1.43.59L10.3 9.45l-7.72 7.72c-.78.78-.78 2.05 0 2.83L4 21.41c.39.39.9.59 1.41.59.51 0 1.02-.2 1.41-.59l7.78-7.78 2.81-2.81c.8-.78.8-2.07 0-2.86zM5.41 20L4 18.59l7.72-7.72 1.47 1.35L5.41 20z\"/>\n",
              "  </svg>\n",
              "      </button>\n",
              "      \n",
              "  <style>\n",
              "    .colab-df-container {\n",
              "      display:flex;\n",
              "      flex-wrap:wrap;\n",
              "      gap: 12px;\n",
              "    }\n",
              "\n",
              "    .colab-df-convert {\n",
              "      background-color: #E8F0FE;\n",
              "      border: none;\n",
              "      border-radius: 50%;\n",
              "      cursor: pointer;\n",
              "      display: none;\n",
              "      fill: #1967D2;\n",
              "      height: 32px;\n",
              "      padding: 0 0 0 0;\n",
              "      width: 32px;\n",
              "    }\n",
              "\n",
              "    .colab-df-convert:hover {\n",
              "      background-color: #E2EBFA;\n",
              "      box-shadow: 0px 1px 2px rgba(60, 64, 67, 0.3), 0px 1px 3px 1px rgba(60, 64, 67, 0.15);\n",
              "      fill: #174EA6;\n",
              "    }\n",
              "\n",
              "    [theme=dark] .colab-df-convert {\n",
              "      background-color: #3B4455;\n",
              "      fill: #D2E3FC;\n",
              "    }\n",
              "\n",
              "    [theme=dark] .colab-df-convert:hover {\n",
              "      background-color: #434B5C;\n",
              "      box-shadow: 0px 1px 3px 1px rgba(0, 0, 0, 0.15);\n",
              "      filter: drop-shadow(0px 1px 2px rgba(0, 0, 0, 0.3));\n",
              "      fill: #FFFFFF;\n",
              "    }\n",
              "  </style>\n",
              "\n",
              "      <script>\n",
              "        const buttonEl =\n",
              "          document.querySelector('#df-19671762-6ade-4b0d-9001-bc2186b616aa button.colab-df-convert');\n",
              "        buttonEl.style.display =\n",
              "          google.colab.kernel.accessAllowed ? 'block' : 'none';\n",
              "\n",
              "        async function convertToInteractive(key) {\n",
              "          const element = document.querySelector('#df-19671762-6ade-4b0d-9001-bc2186b616aa');\n",
              "          const dataTable =\n",
              "            await google.colab.kernel.invokeFunction('convertToInteractive',\n",
              "                                                     [key], {});\n",
              "          if (!dataTable) return;\n",
              "\n",
              "          const docLinkHtml = 'Like what you see? Visit the ' +\n",
              "            '<a target=\"_blank\" href=https://colab.research.google.com/notebooks/data_table.ipynb>data table notebook</a>'\n",
              "            + ' to learn more about interactive tables.';\n",
              "          element.innerHTML = '';\n",
              "          dataTable['output_type'] = 'display_data';\n",
              "          await google.colab.output.renderOutput(dataTable, element);\n",
              "          const docLink = document.createElement('div');\n",
              "          docLink.innerHTML = docLinkHtml;\n",
              "          element.appendChild(docLink);\n",
              "        }\n",
              "      </script>\n",
              "    </div>\n",
              "  </div>\n",
              "  "
            ]
          },
          "metadata": {},
          "execution_count": 28
        }
      ]
    },
    {
      "cell_type": "markdown",
      "source": [
        "## Transformation Pipelines"
      ],
      "metadata": {
        "id": "fHTuCjQwcBLS"
      }
    },
    {
      "cell_type": "code",
      "source": [
        "from sklearn.compose import ColumnTransformer\n",
        "from sklearn.pipeline import Pipeline\n",
        "from sklearn.preprocessing import StandardScaler\n",
        "\n",
        "num_attribs = [\"age\", \"bmi\", \"children\"]\n",
        "cat_ordinal_attribs = [\"drinking\"]\n",
        "cat_1hot_attribs = [\"home\", \"sex\", \"smoker\"]\n",
        "\n",
        "num_attribs_2 = [\"age\", \"bmi\"]\n",
        "cat_ordinal_attribs_2 = []\n",
        "cat_1hot_attribs_2 = [\"smoker\"]\n",
        "\n",
        "num_pipeline = Pipeline([\n",
        "    (\"impute\", SimpleImputer(strategy=\"constant\", fill_value=0)),\n",
        "    (\"standardize\", StandardScaler()),\n",
        "])\n",
        "\n",
        "cat_ordinal_pipeline = Pipeline([\n",
        "    (\"impute\",SimpleImputer(strategy=\"most_frequent\")),\n",
        "    (\"ordinalEncode\",OrdinalEncoder(categories=[['no','occasional','frequent']], handle_unknown=\"error\")),\n",
        "    (\"standardize\", StandardScaler())\n",
        "])\n",
        "\n",
        "cat_1hot_pipeline = Pipeline([\n",
        "    (\"impute\",SimpleImputer(strategy=\"most_frequent\")),\n",
        "    (\"1hotEncode\",OneHotEncoder(handle_unknown=\"ignore\"))\n",
        "])\n",
        "\n",
        "preprocessing = ColumnTransformer([\n",
        "    (\"num\", num_pipeline, num_attribs),\n",
        "    (\"cat_ordinal\", cat_ordinal_pipeline, cat_ordinal_attribs),\n",
        "    (\"cat_1hot\", cat_1hot_pipeline, cat_1hot_attribs),\n",
        "])\n",
        "\n",
        "preprocessing2 = ColumnTransformer([\n",
        "    (\"num\", num_pipeline, num_attribs_2),\n",
        "    (\"cat_1hot\", cat_1hot_pipeline, cat_1hot_attribs_2),\n",
        "])"
      ],
      "metadata": {
        "id": "h0G2BAtwcJeE"
      },
      "execution_count": null,
      "outputs": []
    },
    {
      "cell_type": "code",
      "source": [
        "from sklearn import set_config\n",
        "\n",
        "set_config(display='diagram')\n",
        "\n",
        "preprocessing"
      ],
      "metadata": {
        "colab": {
          "base_uri": "https://localhost:8080/",
          "height": 211
        },
        "id": "FsY0cpE1cjjT",
        "outputId": "235f3910-4314-4ae8-f067-83890197a718"
      },
      "execution_count": null,
      "outputs": [
        {
          "output_type": "execute_result",
          "data": {
            "text/plain": [
              "ColumnTransformer(transformers=[('num',\n",
              "                                 Pipeline(steps=[('impute',\n",
              "                                                  SimpleImputer(fill_value=0,\n",
              "                                                                strategy='constant')),\n",
              "                                                 ('standardize',\n",
              "                                                  StandardScaler())]),\n",
              "                                 ['age', 'bmi', 'children']),\n",
              "                                ('cat_ordinal',\n",
              "                                 Pipeline(steps=[('impute',\n",
              "                                                  SimpleImputer(strategy='most_frequent')),\n",
              "                                                 ('ordinalEncode',\n",
              "                                                  OrdinalEncoder(categories=[['no',\n",
              "                                                                              'occasional',\n",
              "                                                                              'frequent']])),\n",
              "                                                 ('standardize',\n",
              "                                                  StandardScaler())]),\n",
              "                                 ['drinking']),\n",
              "                                ('cat_1hot',\n",
              "                                 Pipeline(steps=[('impute',\n",
              "                                                  SimpleImputer(strategy='most_frequent')),\n",
              "                                                 ('1hotEncode',\n",
              "                                                  OneHotEncoder(handle_unknown='ignore'))]),\n",
              "                                 ['home', 'sex', 'smoker'])])"
            ],
            "text/html": [
              "<style>#sk-2efb4d70-225b-4917-9378-c46a8d11ad35 {color: black;background-color: white;}#sk-2efb4d70-225b-4917-9378-c46a8d11ad35 pre{padding: 0;}#sk-2efb4d70-225b-4917-9378-c46a8d11ad35 div.sk-toggleable {background-color: white;}#sk-2efb4d70-225b-4917-9378-c46a8d11ad35 label.sk-toggleable__label {cursor: pointer;display: block;width: 100%;margin-bottom: 0;padding: 0.3em;box-sizing: border-box;text-align: center;}#sk-2efb4d70-225b-4917-9378-c46a8d11ad35 label.sk-toggleable__label-arrow:before {content: \"▸\";float: left;margin-right: 0.25em;color: #696969;}#sk-2efb4d70-225b-4917-9378-c46a8d11ad35 label.sk-toggleable__label-arrow:hover:before {color: black;}#sk-2efb4d70-225b-4917-9378-c46a8d11ad35 div.sk-estimator:hover label.sk-toggleable__label-arrow:before {color: black;}#sk-2efb4d70-225b-4917-9378-c46a8d11ad35 div.sk-toggleable__content {max-height: 0;max-width: 0;overflow: hidden;text-align: left;background-color: #f0f8ff;}#sk-2efb4d70-225b-4917-9378-c46a8d11ad35 div.sk-toggleable__content pre {margin: 0.2em;color: black;border-radius: 0.25em;background-color: #f0f8ff;}#sk-2efb4d70-225b-4917-9378-c46a8d11ad35 input.sk-toggleable__control:checked~div.sk-toggleable__content {max-height: 200px;max-width: 100%;overflow: auto;}#sk-2efb4d70-225b-4917-9378-c46a8d11ad35 input.sk-toggleable__control:checked~label.sk-toggleable__label-arrow:before {content: \"▾\";}#sk-2efb4d70-225b-4917-9378-c46a8d11ad35 div.sk-estimator input.sk-toggleable__control:checked~label.sk-toggleable__label {background-color: #d4ebff;}#sk-2efb4d70-225b-4917-9378-c46a8d11ad35 div.sk-label input.sk-toggleable__control:checked~label.sk-toggleable__label {background-color: #d4ebff;}#sk-2efb4d70-225b-4917-9378-c46a8d11ad35 input.sk-hidden--visually {border: 0;clip: rect(1px 1px 1px 1px);clip: rect(1px, 1px, 1px, 1px);height: 1px;margin: -1px;overflow: hidden;padding: 0;position: absolute;width: 1px;}#sk-2efb4d70-225b-4917-9378-c46a8d11ad35 div.sk-estimator {font-family: monospace;background-color: #f0f8ff;border: 1px dotted black;border-radius: 0.25em;box-sizing: border-box;margin-bottom: 0.5em;}#sk-2efb4d70-225b-4917-9378-c46a8d11ad35 div.sk-estimator:hover {background-color: #d4ebff;}#sk-2efb4d70-225b-4917-9378-c46a8d11ad35 div.sk-parallel-item::after {content: \"\";width: 100%;border-bottom: 1px solid gray;flex-grow: 1;}#sk-2efb4d70-225b-4917-9378-c46a8d11ad35 div.sk-label:hover label.sk-toggleable__label {background-color: #d4ebff;}#sk-2efb4d70-225b-4917-9378-c46a8d11ad35 div.sk-serial::before {content: \"\";position: absolute;border-left: 1px solid gray;box-sizing: border-box;top: 2em;bottom: 0;left: 50%;}#sk-2efb4d70-225b-4917-9378-c46a8d11ad35 div.sk-serial {display: flex;flex-direction: column;align-items: center;background-color: white;padding-right: 0.2em;padding-left: 0.2em;}#sk-2efb4d70-225b-4917-9378-c46a8d11ad35 div.sk-item {z-index: 1;}#sk-2efb4d70-225b-4917-9378-c46a8d11ad35 div.sk-parallel {display: flex;align-items: stretch;justify-content: center;background-color: white;}#sk-2efb4d70-225b-4917-9378-c46a8d11ad35 div.sk-parallel::before {content: \"\";position: absolute;border-left: 1px solid gray;box-sizing: border-box;top: 2em;bottom: 0;left: 50%;}#sk-2efb4d70-225b-4917-9378-c46a8d11ad35 div.sk-parallel-item {display: flex;flex-direction: column;position: relative;background-color: white;}#sk-2efb4d70-225b-4917-9378-c46a8d11ad35 div.sk-parallel-item:first-child::after {align-self: flex-end;width: 50%;}#sk-2efb4d70-225b-4917-9378-c46a8d11ad35 div.sk-parallel-item:last-child::after {align-self: flex-start;width: 50%;}#sk-2efb4d70-225b-4917-9378-c46a8d11ad35 div.sk-parallel-item:only-child::after {width: 0;}#sk-2efb4d70-225b-4917-9378-c46a8d11ad35 div.sk-dashed-wrapped {border: 1px dashed gray;margin: 0 0.4em 0.5em 0.4em;box-sizing: border-box;padding-bottom: 0.4em;background-color: white;position: relative;}#sk-2efb4d70-225b-4917-9378-c46a8d11ad35 div.sk-label label {font-family: monospace;font-weight: bold;background-color: white;display: inline-block;line-height: 1.2em;}#sk-2efb4d70-225b-4917-9378-c46a8d11ad35 div.sk-label-container {position: relative;z-index: 2;text-align: center;}#sk-2efb4d70-225b-4917-9378-c46a8d11ad35 div.sk-container {/* jupyter's `normalize.less` sets `[hidden] { display: none; }` but bootstrap.min.css set `[hidden] { display: none !important; }` so we also need the `!important` here to be able to override the default hidden behavior on the sphinx rendered scikit-learn.org. See: https://github.com/scikit-learn/scikit-learn/issues/21755 */display: inline-block !important;position: relative;}#sk-2efb4d70-225b-4917-9378-c46a8d11ad35 div.sk-text-repr-fallback {display: none;}</style><div id=\"sk-2efb4d70-225b-4917-9378-c46a8d11ad35\" class=\"sk-top-container\"><div class=\"sk-text-repr-fallback\"><pre>ColumnTransformer(transformers=[(&#x27;num&#x27;,\n",
              "                                 Pipeline(steps=[(&#x27;impute&#x27;,\n",
              "                                                  SimpleImputer(fill_value=0,\n",
              "                                                                strategy=&#x27;constant&#x27;)),\n",
              "                                                 (&#x27;standardize&#x27;,\n",
              "                                                  StandardScaler())]),\n",
              "                                 [&#x27;age&#x27;, &#x27;bmi&#x27;, &#x27;children&#x27;]),\n",
              "                                (&#x27;cat_ordinal&#x27;,\n",
              "                                 Pipeline(steps=[(&#x27;impute&#x27;,\n",
              "                                                  SimpleImputer(strategy=&#x27;most_frequent&#x27;)),\n",
              "                                                 (&#x27;ordinalEncode&#x27;,\n",
              "                                                  OrdinalEncoder(categories=[[&#x27;no&#x27;,\n",
              "                                                                              &#x27;occasional&#x27;,\n",
              "                                                                              &#x27;frequent&#x27;]])),\n",
              "                                                 (&#x27;standardize&#x27;,\n",
              "                                                  StandardScaler())]),\n",
              "                                 [&#x27;drinking&#x27;]),\n",
              "                                (&#x27;cat_1hot&#x27;,\n",
              "                                 Pipeline(steps=[(&#x27;impute&#x27;,\n",
              "                                                  SimpleImputer(strategy=&#x27;most_frequent&#x27;)),\n",
              "                                                 (&#x27;1hotEncode&#x27;,\n",
              "                                                  OneHotEncoder(handle_unknown=&#x27;ignore&#x27;))]),\n",
              "                                 [&#x27;home&#x27;, &#x27;sex&#x27;, &#x27;smoker&#x27;])])</pre><b>Please rerun this cell to show the HTML repr or trust the notebook.</b></div><div class=\"sk-container\" hidden><div class=\"sk-item sk-dashed-wrapped\"><div class=\"sk-label-container\"><div class=\"sk-label sk-toggleable\"><input class=\"sk-toggleable__control sk-hidden--visually\" id=\"c553f607-c0ea-415e-a884-0e68bd9caf97\" type=\"checkbox\" ><label for=\"c553f607-c0ea-415e-a884-0e68bd9caf97\" class=\"sk-toggleable__label sk-toggleable__label-arrow\">ColumnTransformer</label><div class=\"sk-toggleable__content\"><pre>ColumnTransformer(transformers=[(&#x27;num&#x27;,\n",
              "                                 Pipeline(steps=[(&#x27;impute&#x27;,\n",
              "                                                  SimpleImputer(fill_value=0,\n",
              "                                                                strategy=&#x27;constant&#x27;)),\n",
              "                                                 (&#x27;standardize&#x27;,\n",
              "                                                  StandardScaler())]),\n",
              "                                 [&#x27;age&#x27;, &#x27;bmi&#x27;, &#x27;children&#x27;]),\n",
              "                                (&#x27;cat_ordinal&#x27;,\n",
              "                                 Pipeline(steps=[(&#x27;impute&#x27;,\n",
              "                                                  SimpleImputer(strategy=&#x27;most_frequent&#x27;)),\n",
              "                                                 (&#x27;ordinalEncode&#x27;,\n",
              "                                                  OrdinalEncoder(categories=[[&#x27;no&#x27;,\n",
              "                                                                              &#x27;occasional&#x27;,\n",
              "                                                                              &#x27;frequent&#x27;]])),\n",
              "                                                 (&#x27;standardize&#x27;,\n",
              "                                                  StandardScaler())]),\n",
              "                                 [&#x27;drinking&#x27;]),\n",
              "                                (&#x27;cat_1hot&#x27;,\n",
              "                                 Pipeline(steps=[(&#x27;impute&#x27;,\n",
              "                                                  SimpleImputer(strategy=&#x27;most_frequent&#x27;)),\n",
              "                                                 (&#x27;1hotEncode&#x27;,\n",
              "                                                  OneHotEncoder(handle_unknown=&#x27;ignore&#x27;))]),\n",
              "                                 [&#x27;home&#x27;, &#x27;sex&#x27;, &#x27;smoker&#x27;])])</pre></div></div></div><div class=\"sk-parallel\"><div class=\"sk-parallel-item\"><div class=\"sk-item\"><div class=\"sk-label-container\"><div class=\"sk-label sk-toggleable\"><input class=\"sk-toggleable__control sk-hidden--visually\" id=\"6ff9b237-4a21-4a0d-a141-c309057dc86b\" type=\"checkbox\" ><label for=\"6ff9b237-4a21-4a0d-a141-c309057dc86b\" class=\"sk-toggleable__label sk-toggleable__label-arrow\">num</label><div class=\"sk-toggleable__content\"><pre>[&#x27;age&#x27;, &#x27;bmi&#x27;, &#x27;children&#x27;]</pre></div></div></div><div class=\"sk-serial\"><div class=\"sk-item\"><div class=\"sk-serial\"><div class=\"sk-item\"><div class=\"sk-estimator sk-toggleable\"><input class=\"sk-toggleable__control sk-hidden--visually\" id=\"88dfb320-cb65-4545-9243-910591a6620f\" type=\"checkbox\" ><label for=\"88dfb320-cb65-4545-9243-910591a6620f\" class=\"sk-toggleable__label sk-toggleable__label-arrow\">SimpleImputer</label><div class=\"sk-toggleable__content\"><pre>SimpleImputer(fill_value=0, strategy=&#x27;constant&#x27;)</pre></div></div></div><div class=\"sk-item\"><div class=\"sk-estimator sk-toggleable\"><input class=\"sk-toggleable__control sk-hidden--visually\" id=\"f34c4a81-f27a-4244-817f-5435320a4a02\" type=\"checkbox\" ><label for=\"f34c4a81-f27a-4244-817f-5435320a4a02\" class=\"sk-toggleable__label sk-toggleable__label-arrow\">StandardScaler</label><div class=\"sk-toggleable__content\"><pre>StandardScaler()</pre></div></div></div></div></div></div></div></div><div class=\"sk-parallel-item\"><div class=\"sk-item\"><div class=\"sk-label-container\"><div class=\"sk-label sk-toggleable\"><input class=\"sk-toggleable__control sk-hidden--visually\" id=\"917ce07f-5b54-4f8b-8e29-e845f5955e46\" type=\"checkbox\" ><label for=\"917ce07f-5b54-4f8b-8e29-e845f5955e46\" class=\"sk-toggleable__label sk-toggleable__label-arrow\">cat_ordinal</label><div class=\"sk-toggleable__content\"><pre>[&#x27;drinking&#x27;]</pre></div></div></div><div class=\"sk-serial\"><div class=\"sk-item\"><div class=\"sk-serial\"><div class=\"sk-item\"><div class=\"sk-estimator sk-toggleable\"><input class=\"sk-toggleable__control sk-hidden--visually\" id=\"826f943f-4ef1-491e-b55c-c947666c50b0\" type=\"checkbox\" ><label for=\"826f943f-4ef1-491e-b55c-c947666c50b0\" class=\"sk-toggleable__label sk-toggleable__label-arrow\">SimpleImputer</label><div class=\"sk-toggleable__content\"><pre>SimpleImputer(strategy=&#x27;most_frequent&#x27;)</pre></div></div></div><div class=\"sk-item\"><div class=\"sk-estimator sk-toggleable\"><input class=\"sk-toggleable__control sk-hidden--visually\" id=\"0f07b00c-c5fb-4998-9eec-1708193e03eb\" type=\"checkbox\" ><label for=\"0f07b00c-c5fb-4998-9eec-1708193e03eb\" class=\"sk-toggleable__label sk-toggleable__label-arrow\">OrdinalEncoder</label><div class=\"sk-toggleable__content\"><pre>OrdinalEncoder(categories=[[&#x27;no&#x27;, &#x27;occasional&#x27;, &#x27;frequent&#x27;]])</pre></div></div></div><div class=\"sk-item\"><div class=\"sk-estimator sk-toggleable\"><input class=\"sk-toggleable__control sk-hidden--visually\" id=\"c9985bce-1bc4-44bc-93f8-2ad69a1fba3c\" type=\"checkbox\" ><label for=\"c9985bce-1bc4-44bc-93f8-2ad69a1fba3c\" class=\"sk-toggleable__label sk-toggleable__label-arrow\">StandardScaler</label><div class=\"sk-toggleable__content\"><pre>StandardScaler()</pre></div></div></div></div></div></div></div></div><div class=\"sk-parallel-item\"><div class=\"sk-item\"><div class=\"sk-label-container\"><div class=\"sk-label sk-toggleable\"><input class=\"sk-toggleable__control sk-hidden--visually\" id=\"b90fd779-7c36-4c75-9ea1-6a4aba185c17\" type=\"checkbox\" ><label for=\"b90fd779-7c36-4c75-9ea1-6a4aba185c17\" class=\"sk-toggleable__label sk-toggleable__label-arrow\">cat_1hot</label><div class=\"sk-toggleable__content\"><pre>[&#x27;home&#x27;, &#x27;sex&#x27;, &#x27;smoker&#x27;]</pre></div></div></div><div class=\"sk-serial\"><div class=\"sk-item\"><div class=\"sk-serial\"><div class=\"sk-item\"><div class=\"sk-estimator sk-toggleable\"><input class=\"sk-toggleable__control sk-hidden--visually\" id=\"0e61e66f-978f-48e7-9a4c-2880564bd6e2\" type=\"checkbox\" ><label for=\"0e61e66f-978f-48e7-9a4c-2880564bd6e2\" class=\"sk-toggleable__label sk-toggleable__label-arrow\">SimpleImputer</label><div class=\"sk-toggleable__content\"><pre>SimpleImputer(strategy=&#x27;most_frequent&#x27;)</pre></div></div></div><div class=\"sk-item\"><div class=\"sk-estimator sk-toggleable\"><input class=\"sk-toggleable__control sk-hidden--visually\" id=\"ac901b71-e9fd-41ab-b2c2-ba0723c0682c\" type=\"checkbox\" ><label for=\"ac901b71-e9fd-41ab-b2c2-ba0723c0682c\" class=\"sk-toggleable__label sk-toggleable__label-arrow\">OneHotEncoder</label><div class=\"sk-toggleable__content\"><pre>OneHotEncoder(handle_unknown=&#x27;ignore&#x27;)</pre></div></div></div></div></div></div></div></div></div></div></div></div>"
            ]
          },
          "metadata": {},
          "execution_count": 30
        }
      ]
    },
    {
      "cell_type": "code",
      "source": [
        "preprocessing2"
      ],
      "metadata": {
        "colab": {
          "base_uri": "https://localhost:8080/",
          "height": 176
        },
        "id": "rpcalKn1Wf0u",
        "outputId": "feae9b87-cb26-4903-ff44-4f324c42ae10"
      },
      "execution_count": null,
      "outputs": [
        {
          "output_type": "execute_result",
          "data": {
            "text/plain": [
              "ColumnTransformer(transformers=[('num',\n",
              "                                 Pipeline(steps=[('impute',\n",
              "                                                  SimpleImputer(fill_value=0,\n",
              "                                                                strategy='constant')),\n",
              "                                                 ('standardize',\n",
              "                                                  StandardScaler())]),\n",
              "                                 ['age', 'bmi']),\n",
              "                                ('cat_1hot',\n",
              "                                 Pipeline(steps=[('impute',\n",
              "                                                  SimpleImputer(strategy='most_frequent')),\n",
              "                                                 ('1hotEncode',\n",
              "                                                  OneHotEncoder(handle_unknown='ignore'))]),\n",
              "                                 ['smoker'])])"
            ],
            "text/html": [
              "<style>#sk-801e1d99-6d02-4089-8139-a6b9dd2c9f34 {color: black;background-color: white;}#sk-801e1d99-6d02-4089-8139-a6b9dd2c9f34 pre{padding: 0;}#sk-801e1d99-6d02-4089-8139-a6b9dd2c9f34 div.sk-toggleable {background-color: white;}#sk-801e1d99-6d02-4089-8139-a6b9dd2c9f34 label.sk-toggleable__label {cursor: pointer;display: block;width: 100%;margin-bottom: 0;padding: 0.3em;box-sizing: border-box;text-align: center;}#sk-801e1d99-6d02-4089-8139-a6b9dd2c9f34 label.sk-toggleable__label-arrow:before {content: \"▸\";float: left;margin-right: 0.25em;color: #696969;}#sk-801e1d99-6d02-4089-8139-a6b9dd2c9f34 label.sk-toggleable__label-arrow:hover:before {color: black;}#sk-801e1d99-6d02-4089-8139-a6b9dd2c9f34 div.sk-estimator:hover label.sk-toggleable__label-arrow:before {color: black;}#sk-801e1d99-6d02-4089-8139-a6b9dd2c9f34 div.sk-toggleable__content {max-height: 0;max-width: 0;overflow: hidden;text-align: left;background-color: #f0f8ff;}#sk-801e1d99-6d02-4089-8139-a6b9dd2c9f34 div.sk-toggleable__content pre {margin: 0.2em;color: black;border-radius: 0.25em;background-color: #f0f8ff;}#sk-801e1d99-6d02-4089-8139-a6b9dd2c9f34 input.sk-toggleable__control:checked~div.sk-toggleable__content {max-height: 200px;max-width: 100%;overflow: auto;}#sk-801e1d99-6d02-4089-8139-a6b9dd2c9f34 input.sk-toggleable__control:checked~label.sk-toggleable__label-arrow:before {content: \"▾\";}#sk-801e1d99-6d02-4089-8139-a6b9dd2c9f34 div.sk-estimator input.sk-toggleable__control:checked~label.sk-toggleable__label {background-color: #d4ebff;}#sk-801e1d99-6d02-4089-8139-a6b9dd2c9f34 div.sk-label input.sk-toggleable__control:checked~label.sk-toggleable__label {background-color: #d4ebff;}#sk-801e1d99-6d02-4089-8139-a6b9dd2c9f34 input.sk-hidden--visually {border: 0;clip: rect(1px 1px 1px 1px);clip: rect(1px, 1px, 1px, 1px);height: 1px;margin: -1px;overflow: hidden;padding: 0;position: absolute;width: 1px;}#sk-801e1d99-6d02-4089-8139-a6b9dd2c9f34 div.sk-estimator {font-family: monospace;background-color: #f0f8ff;border: 1px dotted black;border-radius: 0.25em;box-sizing: border-box;margin-bottom: 0.5em;}#sk-801e1d99-6d02-4089-8139-a6b9dd2c9f34 div.sk-estimator:hover {background-color: #d4ebff;}#sk-801e1d99-6d02-4089-8139-a6b9dd2c9f34 div.sk-parallel-item::after {content: \"\";width: 100%;border-bottom: 1px solid gray;flex-grow: 1;}#sk-801e1d99-6d02-4089-8139-a6b9dd2c9f34 div.sk-label:hover label.sk-toggleable__label {background-color: #d4ebff;}#sk-801e1d99-6d02-4089-8139-a6b9dd2c9f34 div.sk-serial::before {content: \"\";position: absolute;border-left: 1px solid gray;box-sizing: border-box;top: 2em;bottom: 0;left: 50%;}#sk-801e1d99-6d02-4089-8139-a6b9dd2c9f34 div.sk-serial {display: flex;flex-direction: column;align-items: center;background-color: white;padding-right: 0.2em;padding-left: 0.2em;}#sk-801e1d99-6d02-4089-8139-a6b9dd2c9f34 div.sk-item {z-index: 1;}#sk-801e1d99-6d02-4089-8139-a6b9dd2c9f34 div.sk-parallel {display: flex;align-items: stretch;justify-content: center;background-color: white;}#sk-801e1d99-6d02-4089-8139-a6b9dd2c9f34 div.sk-parallel::before {content: \"\";position: absolute;border-left: 1px solid gray;box-sizing: border-box;top: 2em;bottom: 0;left: 50%;}#sk-801e1d99-6d02-4089-8139-a6b9dd2c9f34 div.sk-parallel-item {display: flex;flex-direction: column;position: relative;background-color: white;}#sk-801e1d99-6d02-4089-8139-a6b9dd2c9f34 div.sk-parallel-item:first-child::after {align-self: flex-end;width: 50%;}#sk-801e1d99-6d02-4089-8139-a6b9dd2c9f34 div.sk-parallel-item:last-child::after {align-self: flex-start;width: 50%;}#sk-801e1d99-6d02-4089-8139-a6b9dd2c9f34 div.sk-parallel-item:only-child::after {width: 0;}#sk-801e1d99-6d02-4089-8139-a6b9dd2c9f34 div.sk-dashed-wrapped {border: 1px dashed gray;margin: 0 0.4em 0.5em 0.4em;box-sizing: border-box;padding-bottom: 0.4em;background-color: white;position: relative;}#sk-801e1d99-6d02-4089-8139-a6b9dd2c9f34 div.sk-label label {font-family: monospace;font-weight: bold;background-color: white;display: inline-block;line-height: 1.2em;}#sk-801e1d99-6d02-4089-8139-a6b9dd2c9f34 div.sk-label-container {position: relative;z-index: 2;text-align: center;}#sk-801e1d99-6d02-4089-8139-a6b9dd2c9f34 div.sk-container {/* jupyter's `normalize.less` sets `[hidden] { display: none; }` but bootstrap.min.css set `[hidden] { display: none !important; }` so we also need the `!important` here to be able to override the default hidden behavior on the sphinx rendered scikit-learn.org. See: https://github.com/scikit-learn/scikit-learn/issues/21755 */display: inline-block !important;position: relative;}#sk-801e1d99-6d02-4089-8139-a6b9dd2c9f34 div.sk-text-repr-fallback {display: none;}</style><div id=\"sk-801e1d99-6d02-4089-8139-a6b9dd2c9f34\" class=\"sk-top-container\"><div class=\"sk-text-repr-fallback\"><pre>ColumnTransformer(transformers=[(&#x27;num&#x27;,\n",
              "                                 Pipeline(steps=[(&#x27;impute&#x27;,\n",
              "                                                  SimpleImputer(fill_value=0,\n",
              "                                                                strategy=&#x27;constant&#x27;)),\n",
              "                                                 (&#x27;standardize&#x27;,\n",
              "                                                  StandardScaler())]),\n",
              "                                 [&#x27;age&#x27;, &#x27;bmi&#x27;]),\n",
              "                                (&#x27;cat_1hot&#x27;,\n",
              "                                 Pipeline(steps=[(&#x27;impute&#x27;,\n",
              "                                                  SimpleImputer(strategy=&#x27;most_frequent&#x27;)),\n",
              "                                                 (&#x27;1hotEncode&#x27;,\n",
              "                                                  OneHotEncoder(handle_unknown=&#x27;ignore&#x27;))]),\n",
              "                                 [&#x27;smoker&#x27;])])</pre><b>Please rerun this cell to show the HTML repr or trust the notebook.</b></div><div class=\"sk-container\" hidden><div class=\"sk-item sk-dashed-wrapped\"><div class=\"sk-label-container\"><div class=\"sk-label sk-toggleable\"><input class=\"sk-toggleable__control sk-hidden--visually\" id=\"dc9e5a66-ff0e-4b43-9caf-2d8b4d3ca677\" type=\"checkbox\" ><label for=\"dc9e5a66-ff0e-4b43-9caf-2d8b4d3ca677\" class=\"sk-toggleable__label sk-toggleable__label-arrow\">ColumnTransformer</label><div class=\"sk-toggleable__content\"><pre>ColumnTransformer(transformers=[(&#x27;num&#x27;,\n",
              "                                 Pipeline(steps=[(&#x27;impute&#x27;,\n",
              "                                                  SimpleImputer(fill_value=0,\n",
              "                                                                strategy=&#x27;constant&#x27;)),\n",
              "                                                 (&#x27;standardize&#x27;,\n",
              "                                                  StandardScaler())]),\n",
              "                                 [&#x27;age&#x27;, &#x27;bmi&#x27;]),\n",
              "                                (&#x27;cat_1hot&#x27;,\n",
              "                                 Pipeline(steps=[(&#x27;impute&#x27;,\n",
              "                                                  SimpleImputer(strategy=&#x27;most_frequent&#x27;)),\n",
              "                                                 (&#x27;1hotEncode&#x27;,\n",
              "                                                  OneHotEncoder(handle_unknown=&#x27;ignore&#x27;))]),\n",
              "                                 [&#x27;smoker&#x27;])])</pre></div></div></div><div class=\"sk-parallel\"><div class=\"sk-parallel-item\"><div class=\"sk-item\"><div class=\"sk-label-container\"><div class=\"sk-label sk-toggleable\"><input class=\"sk-toggleable__control sk-hidden--visually\" id=\"aedc70be-e50d-4d03-8de5-96865cb8fe23\" type=\"checkbox\" ><label for=\"aedc70be-e50d-4d03-8de5-96865cb8fe23\" class=\"sk-toggleable__label sk-toggleable__label-arrow\">num</label><div class=\"sk-toggleable__content\"><pre>[&#x27;age&#x27;, &#x27;bmi&#x27;]</pre></div></div></div><div class=\"sk-serial\"><div class=\"sk-item\"><div class=\"sk-serial\"><div class=\"sk-item\"><div class=\"sk-estimator sk-toggleable\"><input class=\"sk-toggleable__control sk-hidden--visually\" id=\"906227b3-860b-4374-9193-58ad11d03e13\" type=\"checkbox\" ><label for=\"906227b3-860b-4374-9193-58ad11d03e13\" class=\"sk-toggleable__label sk-toggleable__label-arrow\">SimpleImputer</label><div class=\"sk-toggleable__content\"><pre>SimpleImputer(fill_value=0, strategy=&#x27;constant&#x27;)</pre></div></div></div><div class=\"sk-item\"><div class=\"sk-estimator sk-toggleable\"><input class=\"sk-toggleable__control sk-hidden--visually\" id=\"319a3234-ef3f-4f20-a2f2-1010b4b17ea2\" type=\"checkbox\" ><label for=\"319a3234-ef3f-4f20-a2f2-1010b4b17ea2\" class=\"sk-toggleable__label sk-toggleable__label-arrow\">StandardScaler</label><div class=\"sk-toggleable__content\"><pre>StandardScaler()</pre></div></div></div></div></div></div></div></div><div class=\"sk-parallel-item\"><div class=\"sk-item\"><div class=\"sk-label-container\"><div class=\"sk-label sk-toggleable\"><input class=\"sk-toggleable__control sk-hidden--visually\" id=\"656fd0a6-4b50-42f6-a77e-c2cbb177f16f\" type=\"checkbox\" ><label for=\"656fd0a6-4b50-42f6-a77e-c2cbb177f16f\" class=\"sk-toggleable__label sk-toggleable__label-arrow\">cat_1hot</label><div class=\"sk-toggleable__content\"><pre>[&#x27;smoker&#x27;]</pre></div></div></div><div class=\"sk-serial\"><div class=\"sk-item\"><div class=\"sk-serial\"><div class=\"sk-item\"><div class=\"sk-estimator sk-toggleable\"><input class=\"sk-toggleable__control sk-hidden--visually\" id=\"c608b57a-d5f2-41f8-9f6d-33723ae471d5\" type=\"checkbox\" ><label for=\"c608b57a-d5f2-41f8-9f6d-33723ae471d5\" class=\"sk-toggleable__label sk-toggleable__label-arrow\">SimpleImputer</label><div class=\"sk-toggleable__content\"><pre>SimpleImputer(strategy=&#x27;most_frequent&#x27;)</pre></div></div></div><div class=\"sk-item\"><div class=\"sk-estimator sk-toggleable\"><input class=\"sk-toggleable__control sk-hidden--visually\" id=\"ea0049c7-58ad-404c-a34d-1ed2f845fcb3\" type=\"checkbox\" ><label for=\"ea0049c7-58ad-404c-a34d-1ed2f845fcb3\" class=\"sk-toggleable__label sk-toggleable__label-arrow\">OneHotEncoder</label><div class=\"sk-toggleable__content\"><pre>OneHotEncoder(handle_unknown=&#x27;ignore&#x27;)</pre></div></div></div></div></div></div></div></div></div></div></div></div>"
            ]
          },
          "metadata": {},
          "execution_count": 57
        }
      ]
    },
    {
      "cell_type": "code",
      "source": [
        "insurance_prepared = preprocessing.fit_transform(insurance)\n",
        "insurance_prepared, insurance_prepared.shape"
      ],
      "metadata": {
        "colab": {
          "base_uri": "https://localhost:8080/"
        },
        "id": "a-SQ2YSjf_R4",
        "outputId": "47d94ecb-0f37-40f5-9690-02d17790a8a4"
      },
      "execution_count": null,
      "outputs": [
        {
          "output_type": "execute_result",
          "data": {
            "text/plain": [
              "(array([[ 0.26282413,  1.21678153,  0.76194408, ...,  1.        ,\n",
              "          0.        ,  1.        ],\n",
              "        [ 0.33311201, -1.16932934,  0.76194408, ...,  0.        ,\n",
              "          1.        ,  0.        ],\n",
              "        [ 1.31714236, -0.97454478, -0.91904595, ...,  0.        ,\n",
              "          1.        ,  0.        ],\n",
              "        ...,\n",
              "        [ 0.82512718,  1.99591978,  0.76194408, ...,  1.        ,\n",
              "          0.        ,  1.        ],\n",
              "        [-0.72120622, -0.43888724, -0.07855094, ...,  0.        ,\n",
              "          0.        ,  1.        ],\n",
              "        [ 1.38743024, -1.1206332 , -0.91904595, ...,  0.        ,\n",
              "          0.        ,  1.        ]]), (1070, 12))"
            ]
          },
          "metadata": {},
          "execution_count": 31
        }
      ]
    },
    {
      "cell_type": "code",
      "source": [
        "strat_train_set.shape"
      ],
      "metadata": {
        "colab": {
          "base_uri": "https://localhost:8080/"
        },
        "id": "SH30j1jsiYfL",
        "outputId": "6c7ce78f-3ac6-438a-efad-4167731b4d5d"
      },
      "execution_count": null,
      "outputs": [
        {
          "output_type": "execute_result",
          "data": {
            "text/plain": [
              "(1070, 8)"
            ]
          },
          "metadata": {},
          "execution_count": 32
        }
      ]
    },
    {
      "cell_type": "code",
      "source": [
        "pd.DataFrame(insurance_prepared).hist()"
      ],
      "metadata": {
        "colab": {
          "base_uri": "https://localhost:8080/",
          "height": 489
        },
        "id": "VYWNYSMIvory",
        "outputId": "92868c3e-bc44-4ccc-a916-a01fd5b4136c"
      },
      "execution_count": null,
      "outputs": [
        {
          "output_type": "execute_result",
          "data": {
            "text/plain": [
              "array([[<AxesSubplot:title={'center':'0'}>,\n",
              "        <AxesSubplot:title={'center':'1'}>,\n",
              "        <AxesSubplot:title={'center':'2'}>],\n",
              "       [<AxesSubplot:title={'center':'3'}>,\n",
              "        <AxesSubplot:title={'center':'4'}>,\n",
              "        <AxesSubplot:title={'center':'5'}>],\n",
              "       [<AxesSubplot:title={'center':'6'}>,\n",
              "        <AxesSubplot:title={'center':'7'}>,\n",
              "        <AxesSubplot:title={'center':'8'}>],\n",
              "       [<AxesSubplot:title={'center':'9'}>,\n",
              "        <AxesSubplot:title={'center':'10'}>,\n",
              "        <AxesSubplot:title={'center':'11'}>]], dtype=object)"
            ]
          },
          "metadata": {},
          "execution_count": 33
        },
        {
          "output_type": "display_data",
          "data": {
            "text/plain": [
              "<Figure size 432x288 with 12 Axes>"
            ],
            "image/png": "[encoded data removed]"
          },
          "metadata": {
            "needs_background": "light"
          }
        }
      ]
    },
    {
      "cell_type": "markdown",
      "source": [
        "# Select and Train a Model"
      ],
      "metadata": {
        "id": "yIAXUEHtiyPP"
      }
    },
    {
      "cell_type": "markdown",
      "source": [
        "## Training and Evaluating on the Training Set"
      ],
      "metadata": {
        "id": "EMJ2WDFMi2Ta"
      }
    },
    {
      "cell_type": "code",
      "source": [
        "from sklearn.linear_model import LinearRegression\n",
        "from sklearn.pipeline import make_pipeline\n",
        "\n",
        "lin_reg = make_pipeline(preprocessing, LinearRegression())\n",
        "lin_reg.fit(insurance, insurance_labels)"
      ],
      "metadata": {
        "colab": {
          "base_uri": "https://localhost:8080/",
          "height": 263
        },
        "id": "eJVWQMOii5eq",
        "outputId": "0eadb1ad-99d3-49ea-ae24-e73a6491978c"
      },
      "execution_count": null,
      "outputs": [
        {
          "output_type": "execute_result",
          "data": {
            "text/plain": [
              "Pipeline(steps=[('columntransformer',\n",
              "                 ColumnTransformer(transformers=[('num',\n",
              "                                                  Pipeline(steps=[('impute',\n",
              "                                                                   SimpleImputer(fill_value=0,\n",
              "                                                                                 strategy='constant')),\n",
              "                                                                  ('standardize',\n",
              "                                                                   StandardScaler())]),\n",
              "                                                  ['age', 'bmi', 'children']),\n",
              "                                                 ('cat_ordinal',\n",
              "                                                  Pipeline(steps=[('impute',\n",
              "                                                                   SimpleImputer(strategy='most_frequent')),\n",
              "                                                                  ('ordinalEncode',\n",
              "                                                                   OrdinalEncoder(categories=[['no',\n",
              "                                                                                               'occasional',\n",
              "                                                                                               'frequent']])),\n",
              "                                                                  ('standardize',\n",
              "                                                                   StandardScaler())]),\n",
              "                                                  ['drinking']),\n",
              "                                                 ('cat_1hot',\n",
              "                                                  Pipeline(steps=[('impute',\n",
              "                                                                   SimpleImputer(strategy='most_frequent')),\n",
              "                                                                  ('1hotEncode',\n",
              "                                                                   OneHotEncoder(handle_unknown='ignore'))]),\n",
              "                                                  ['home', 'sex', 'smoker'])])),\n",
              "                ('linearregression', LinearRegression())])"
            ],
            "text/html": [
              "<style>#sk-b4a8aceb-89c3-468b-926d-1d0702fdf90f {color: black;background-color: white;}#sk-b4a8aceb-89c3-468b-926d-1d0702fdf90f pre{padding: 0;}#sk-b4a8aceb-89c3-468b-926d-1d0702fdf90f div.sk-toggleable {background-color: white;}#sk-b4a8aceb-89c3-468b-926d-1d0702fdf90f label.sk-toggleable__label {cursor: pointer;display: block;width: 100%;margin-bottom: 0;padding: 0.3em;box-sizing: border-box;text-align: center;}#sk-b4a8aceb-89c3-468b-926d-1d0702fdf90f label.sk-toggleable__label-arrow:before {content: \"▸\";float: left;margin-right: 0.25em;color: #696969;}#sk-b4a8aceb-89c3-468b-926d-1d0702fdf90f label.sk-toggleable__label-arrow:hover:before {color: black;}#sk-b4a8aceb-89c3-468b-926d-1d0702fdf90f div.sk-estimator:hover label.sk-toggleable__label-arrow:before {color: black;}#sk-b4a8aceb-89c3-468b-926d-1d0702fdf90f div.sk-toggleable__content {max-height: 0;max-width: 0;overflow: hidden;text-align: left;background-color: #f0f8ff;}#sk-b4a8aceb-89c3-468b-926d-1d0702fdf90f div.sk-toggleable__content pre {margin: 0.2em;color: black;border-radius: 0.25em;background-color: #f0f8ff;}#sk-b4a8aceb-89c3-468b-926d-1d0702fdf90f input.sk-toggleable__control:checked~div.sk-toggleable__content {max-height: 200px;max-width: 100%;overflow: auto;}#sk-b4a8aceb-89c3-468b-926d-1d0702fdf90f input.sk-toggleable__control:checked~label.sk-toggleable__label-arrow:before {content: \"▾\";}#sk-b4a8aceb-89c3-468b-926d-1d0702fdf90f div.sk-estimator input.sk-toggleable__control:checked~label.sk-toggleable__label {background-color: #d4ebff;}#sk-b4a8aceb-89c3-468b-926d-1d0702fdf90f div.sk-label input.sk-toggleable__control:checked~label.sk-toggleable__label {background-color: #d4ebff;}#sk-b4a8aceb-89c3-468b-926d-1d0702fdf90f input.sk-hidden--visually {border: 0;clip: rect(1px 1px 1px 1px);clip: rect(1px, 1px, 1px, 1px);height: 1px;margin: -1px;overflow: hidden;padding: 0;position: absolute;width: 1px;}#sk-b4a8aceb-89c3-468b-926d-1d0702fdf90f div.sk-estimator {font-family: monospace;background-color: #f0f8ff;border: 1px dotted black;border-radius: 0.25em;box-sizing: border-box;margin-bottom: 0.5em;}#sk-b4a8aceb-89c3-468b-926d-1d0702fdf90f div.sk-estimator:hover {background-color: #d4ebff;}#sk-b4a8aceb-89c3-468b-926d-1d0702fdf90f div.sk-parallel-item::after {content: \"\";width: 100%;border-bottom: 1px solid gray;flex-grow: 1;}#sk-b4a8aceb-89c3-468b-926d-1d0702fdf90f div.sk-label:hover label.sk-toggleable__label {background-color: #d4ebff;}#sk-b4a8aceb-89c3-468b-926d-1d0702fdf90f div.sk-serial::before {content: \"\";position: absolute;border-left: 1px solid gray;box-sizing: border-box;top: 2em;bottom: 0;left: 50%;}#sk-b4a8aceb-89c3-468b-926d-1d0702fdf90f div.sk-serial {display: flex;flex-direction: column;align-items: center;background-color: white;padding-right: 0.2em;padding-left: 0.2em;}#sk-b4a8aceb-89c3-468b-926d-1d0702fdf90f div.sk-item {z-index: 1;}#sk-b4a8aceb-89c3-468b-926d-1d0702fdf90f div.sk-parallel {display: flex;align-items: stretch;justify-content: center;background-color: white;}#sk-b4a8aceb-89c3-468b-926d-1d0702fdf90f div.sk-parallel::before {content: \"\";position: absolute;border-left: 1px solid gray;box-sizing: border-box;top: 2em;bottom: 0;left: 50%;}#sk-b4a8aceb-89c3-468b-926d-1d0702fdf90f div.sk-parallel-item {display: flex;flex-direction: column;position: relative;background-color: white;}#sk-b4a8aceb-89c3-468b-926d-1d0702fdf90f div.sk-parallel-item:first-child::after {align-self: flex-end;width: 50%;}#sk-b4a8aceb-89c3-468b-926d-1d0702fdf90f div.sk-parallel-item:last-child::after {align-self: flex-start;width: 50%;}#sk-b4a8aceb-89c3-468b-926d-1d0702fdf90f div.sk-parallel-item:only-child::after {width: 0;}#sk-b4a8aceb-89c3-468b-926d-1d0702fdf90f div.sk-dashed-wrapped {border: 1px dashed gray;margin: 0 0.4em 0.5em 0.4em;box-sizing: border-box;padding-bottom: 0.4em;background-color: white;position: relative;}#sk-b4a8aceb-89c3-468b-926d-1d0702fdf90f div.sk-label label {font-family: monospace;font-weight: bold;background-color: white;display: inline-block;line-height: 1.2em;}#sk-b4a8aceb-89c3-468b-926d-1d0702fdf90f div.sk-label-container {position: relative;z-index: 2;text-align: center;}#sk-b4a8aceb-89c3-468b-926d-1d0702fdf90f div.sk-container {/* jupyter's `normalize.less` sets `[hidden] { display: none; }` but bootstrap.min.css set `[hidden] { display: none !important; }` so we also need the `!important` here to be able to override the default hidden behavior on the sphinx rendered scikit-learn.org. See: https://github.com/scikit-learn/scikit-learn/issues/21755 */display: inline-block !important;position: relative;}#sk-b4a8aceb-89c3-468b-926d-1d0702fdf90f div.sk-text-repr-fallback {display: none;}</style><div id=\"sk-b4a8aceb-89c3-468b-926d-1d0702fdf90f\" class=\"sk-top-container\"><div class=\"sk-text-repr-fallback\"><pre>Pipeline(steps=[(&#x27;columntransformer&#x27;,\n",
              "                 ColumnTransformer(transformers=[(&#x27;num&#x27;,\n",
              "                                                  Pipeline(steps=[(&#x27;impute&#x27;,\n",
              "                                                                   SimpleImputer(fill_value=0,\n",
              "                                                                                 strategy=&#x27;constant&#x27;)),\n",
              "                                                                  (&#x27;standardize&#x27;,\n",
              "                                                                   StandardScaler())]),\n",
              "                                                  [&#x27;age&#x27;, &#x27;bmi&#x27;, &#x27;children&#x27;]),\n",
              "                                                 (&#x27;cat_ordinal&#x27;,\n",
              "                                                  Pipeline(steps=[(&#x27;impute&#x27;,\n",
              "                                                                   SimpleImputer(strategy=&#x27;most_frequent&#x27;)),\n",
              "                                                                  (&#x27;ordinalEncode&#x27;,\n",
              "                                                                   OrdinalEncoder(categories=[[&#x27;no&#x27;,\n",
              "                                                                                               &#x27;occasional&#x27;,\n",
              "                                                                                               &#x27;frequent&#x27;]])),\n",
              "                                                                  (&#x27;standardize&#x27;,\n",
              "                                                                   StandardScaler())]),\n",
              "                                                  [&#x27;drinking&#x27;]),\n",
              "                                                 (&#x27;cat_1hot&#x27;,\n",
              "                                                  Pipeline(steps=[(&#x27;impute&#x27;,\n",
              "                                                                   SimpleImputer(strategy=&#x27;most_frequent&#x27;)),\n",
              "                                                                  (&#x27;1hotEncode&#x27;,\n",
              "                                                                   OneHotEncoder(handle_unknown=&#x27;ignore&#x27;))]),\n",
              "                                                  [&#x27;home&#x27;, &#x27;sex&#x27;, &#x27;smoker&#x27;])])),\n",
              "                (&#x27;linearregression&#x27;, LinearRegression())])</pre><b>Please rerun this cell to show the HTML repr or trust the notebook.</b></div><div class=\"sk-container\" hidden><div class=\"sk-item sk-dashed-wrapped\"><div class=\"sk-label-container\"><div class=\"sk-label sk-toggleable\"><input class=\"sk-toggleable__control sk-hidden--visually\" id=\"2b9eeee0-da26-44eb-bb04-be674ed12563\" type=\"checkbox\" ><label for=\"2b9eeee0-da26-44eb-bb04-be674ed12563\" class=\"sk-toggleable__label sk-toggleable__label-arrow\">Pipeline</label><div class=\"sk-toggleable__content\"><pre>Pipeline(steps=[(&#x27;columntransformer&#x27;,\n",
              "                 ColumnTransformer(transformers=[(&#x27;num&#x27;,\n",
              "                                                  Pipeline(steps=[(&#x27;impute&#x27;,\n",
              "                                                                   SimpleImputer(fill_value=0,\n",
              "                                                                                 strategy=&#x27;constant&#x27;)),\n",
              "                                                                  (&#x27;standardize&#x27;,\n",
              "                                                                   StandardScaler())]),\n",
              "                                                  [&#x27;age&#x27;, &#x27;bmi&#x27;, &#x27;children&#x27;]),\n",
              "                                                 (&#x27;cat_ordinal&#x27;,\n",
              "                                                  Pipeline(steps=[(&#x27;impute&#x27;,\n",
              "                                                                   SimpleImputer(strategy=&#x27;most_frequent&#x27;)),\n",
              "                                                                  (&#x27;ordinalEncode&#x27;,\n",
              "                                                                   OrdinalEncoder(categories=[[&#x27;no&#x27;,\n",
              "                                                                                               &#x27;occasional&#x27;,\n",
              "                                                                                               &#x27;frequent&#x27;]])),\n",
              "                                                                  (&#x27;standardize&#x27;,\n",
              "                                                                   StandardScaler())]),\n",
              "                                                  [&#x27;drinking&#x27;]),\n",
              "                                                 (&#x27;cat_1hot&#x27;,\n",
              "                                                  Pipeline(steps=[(&#x27;impute&#x27;,\n",
              "                                                                   SimpleImputer(strategy=&#x27;most_frequent&#x27;)),\n",
              "                                                                  (&#x27;1hotEncode&#x27;,\n",
              "                                                                   OneHotEncoder(handle_unknown=&#x27;ignore&#x27;))]),\n",
              "                                                  [&#x27;home&#x27;, &#x27;sex&#x27;, &#x27;smoker&#x27;])])),\n",
              "                (&#x27;linearregression&#x27;, LinearRegression())])</pre></div></div></div><div class=\"sk-serial\"><div class=\"sk-item sk-dashed-wrapped\"><div class=\"sk-label-container\"><div class=\"sk-label sk-toggleable\"><input class=\"sk-toggleable__control sk-hidden--visually\" id=\"1644f3f5-949b-4061-a435-2bda5dce9271\" type=\"checkbox\" ><label for=\"1644f3f5-949b-4061-a435-2bda5dce9271\" class=\"sk-toggleable__label sk-toggleable__label-arrow\">columntransformer: ColumnTransformer</label><div class=\"sk-toggleable__content\"><pre>ColumnTransformer(transformers=[(&#x27;num&#x27;,\n",
              "                                 Pipeline(steps=[(&#x27;impute&#x27;,\n",
              "                                                  SimpleImputer(fill_value=0,\n",
              "                                                                strategy=&#x27;constant&#x27;)),\n",
              "                                                 (&#x27;standardize&#x27;,\n",
              "                                                  StandardScaler())]),\n",
              "                                 [&#x27;age&#x27;, &#x27;bmi&#x27;, &#x27;children&#x27;]),\n",
              "                                (&#x27;cat_ordinal&#x27;,\n",
              "                                 Pipeline(steps=[(&#x27;impute&#x27;,\n",
              "                                                  SimpleImputer(strategy=&#x27;most_frequent&#x27;)),\n",
              "                                                 (&#x27;ordinalEncode&#x27;,\n",
              "                                                  OrdinalEncoder(categories=[[&#x27;no&#x27;,\n",
              "                                                                              &#x27;occasional&#x27;,\n",
              "                                                                              &#x27;frequent&#x27;]])),\n",
              "                                                 (&#x27;standardize&#x27;,\n",
              "                                                  StandardScaler())]),\n",
              "                                 [&#x27;drinking&#x27;]),\n",
              "                                (&#x27;cat_1hot&#x27;,\n",
              "                                 Pipeline(steps=[(&#x27;impute&#x27;,\n",
              "                                                  SimpleImputer(strategy=&#x27;most_frequent&#x27;)),\n",
              "                                                 (&#x27;1hotEncode&#x27;,\n",
              "                                                  OneHotEncoder(handle_unknown=&#x27;ignore&#x27;))]),\n",
              "                                 [&#x27;home&#x27;, &#x27;sex&#x27;, &#x27;smoker&#x27;])])</pre></div></div></div><div class=\"sk-parallel\"><div class=\"sk-parallel-item\"><div class=\"sk-item\"><div class=\"sk-label-container\"><div class=\"sk-label sk-toggleable\"><input class=\"sk-toggleable__control sk-hidden--visually\" id=\"08cf702c-dd48-48ef-990a-730c647badc3\" type=\"checkbox\" ><label for=\"08cf702c-dd48-48ef-990a-730c647badc3\" class=\"sk-toggleable__label sk-toggleable__label-arrow\">num</label><div class=\"sk-toggleable__content\"><pre>[&#x27;age&#x27;, &#x27;bmi&#x27;, &#x27;children&#x27;]</pre></div></div></div><div class=\"sk-serial\"><div class=\"sk-item\"><div class=\"sk-serial\"><div class=\"sk-item\"><div class=\"sk-estimator sk-toggleable\"><input class=\"sk-toggleable__control sk-hidden--visually\" id=\"3a468904-6f4a-4ef2-9aab-65a4fffdf73e\" type=\"checkbox\" ><label for=\"3a468904-6f4a-4ef2-9aab-65a4fffdf73e\" class=\"sk-toggleable__label sk-toggleable__label-arrow\">SimpleImputer</label><div class=\"sk-toggleable__content\"><pre>SimpleImputer(fill_value=0, strategy=&#x27;constant&#x27;)</pre></div></div></div><div class=\"sk-item\"><div class=\"sk-estimator sk-toggleable\"><input class=\"sk-toggleable__control sk-hidden--visually\" id=\"c5853dfa-0d99-4859-8543-ebfcdb61d89d\" type=\"checkbox\" ><label for=\"c5853dfa-0d99-4859-8543-ebfcdb61d89d\" class=\"sk-toggleable__label sk-toggleable__label-arrow\">StandardScaler</label><div class=\"sk-toggleable__content\"><pre>StandardScaler()</pre></div></div></div></div></div></div></div></div><div class=\"sk-parallel-item\"><div class=\"sk-item\"><div class=\"sk-label-container\"><div class=\"sk-label sk-toggleable\"><input class=\"sk-toggleable__control sk-hidden--visually\" id=\"76f6f872-9d49-4045-9c62-d03c49a3b2e6\" type=\"checkbox\" ><label for=\"76f6f872-9d49-4045-9c62-d03c49a3b2e6\" class=\"sk-toggleable__label sk-toggleable__label-arrow\">cat_ordinal</label><div class=\"sk-toggleable__content\"><pre>[&#x27;drinking&#x27;]</pre></div></div></div><div class=\"sk-serial\"><div class=\"sk-item\"><div class=\"sk-serial\"><div class=\"sk-item\"><div class=\"sk-estimator sk-toggleable\"><input class=\"sk-toggleable__control sk-hidden--visually\" id=\"ed9b15c7-5197-4759-961c-a817dbb2b865\" type=\"checkbox\" ><label for=\"ed9b15c7-5197-4759-961c-a817dbb2b865\" class=\"sk-toggleable__label sk-toggleable__label-arrow\">SimpleImputer</label><div class=\"sk-toggleable__content\"><pre>SimpleImputer(strategy=&#x27;most_frequent&#x27;)</pre></div></div></div><div class=\"sk-item\"><div class=\"sk-estimator sk-toggleable\"><input class=\"sk-toggleable__control sk-hidden--visually\" id=\"f6479429-60c9-474b-9eec-1ba944b25fbd\" type=\"checkbox\" ><label for=\"f6479429-60c9-474b-9eec-1ba944b25fbd\" class=\"sk-toggleable__label sk-toggleable__label-arrow\">OrdinalEncoder</label><div class=\"sk-toggleable__content\"><pre>OrdinalEncoder(categories=[[&#x27;no&#x27;, &#x27;occasional&#x27;, &#x27;frequent&#x27;]])</pre></div></div></div><div class=\"sk-item\"><div class=\"sk-estimator sk-toggleable\"><input class=\"sk-toggleable__control sk-hidden--visually\" id=\"5c30f992-5429-4178-a0f4-5065e0e926e7\" type=\"checkbox\" ><label for=\"5c30f992-5429-4178-a0f4-5065e0e926e7\" class=\"sk-toggleable__label sk-toggleable__label-arrow\">StandardScaler</label><div class=\"sk-toggleable__content\"><pre>StandardScaler()</pre></div></div></div></div></div></div></div></div><div class=\"sk-parallel-item\"><div class=\"sk-item\"><div class=\"sk-label-container\"><div class=\"sk-label sk-toggleable\"><input class=\"sk-toggleable__control sk-hidden--visually\" id=\"4dcdfdce-52db-4119-99cc-70ff412bcda7\" type=\"checkbox\" ><label for=\"4dcdfdce-52db-4119-99cc-70ff412bcda7\" class=\"sk-toggleable__label sk-toggleable__label-arrow\">cat_1hot</label><div class=\"sk-toggleable__content\"><pre>[&#x27;home&#x27;, &#x27;sex&#x27;, &#x27;smoker&#x27;]</pre></div></div></div><div class=\"sk-serial\"><div class=\"sk-item\"><div class=\"sk-serial\"><div class=\"sk-item\"><div class=\"sk-estimator sk-toggleable\"><input class=\"sk-toggleable__control sk-hidden--visually\" id=\"a2a1135a-9861-4238-acee-ceba28205449\" type=\"checkbox\" ><label for=\"a2a1135a-9861-4238-acee-ceba28205449\" class=\"sk-toggleable__label sk-toggleable__label-arrow\">SimpleImputer</label><div class=\"sk-toggleable__content\"><pre>SimpleImputer(strategy=&#x27;most_frequent&#x27;)</pre></div></div></div><div class=\"sk-item\"><div class=\"sk-estimator sk-toggleable\"><input class=\"sk-toggleable__control sk-hidden--visually\" id=\"fbdc5477-c44c-476b-9bad-a190f7c5a288\" type=\"checkbox\" ><label for=\"fbdc5477-c44c-476b-9bad-a190f7c5a288\" class=\"sk-toggleable__label sk-toggleable__label-arrow\">OneHotEncoder</label><div class=\"sk-toggleable__content\"><pre>OneHotEncoder(handle_unknown=&#x27;ignore&#x27;)</pre></div></div></div></div></div></div></div></div></div></div><div class=\"sk-item\"><div class=\"sk-estimator sk-toggleable\"><input class=\"sk-toggleable__control sk-hidden--visually\" id=\"b2ce0b82-f782-460e-8f6e-8be7c320f77b\" type=\"checkbox\" ><label for=\"b2ce0b82-f782-460e-8f6e-8be7c320f77b\" class=\"sk-toggleable__label sk-toggleable__label-arrow\">LinearRegression</label><div class=\"sk-toggleable__content\"><pre>LinearRegression()</pre></div></div></div></div></div></div></div>"
            ]
          },
          "metadata": {},
          "execution_count": 34
        }
      ]
    },
    {
      "cell_type": "code",
      "source": [
        "insurance_predictions = lin_reg.predict(insurance)\n",
        "insurance_predictions[:5].round(-2)"
      ],
      "metadata": {
        "colab": {
          "base_uri": "https://localhost:8080/"
        },
        "id": "k4xyRT8skGuq",
        "outputId": "144b2c46-7453-4e54-bd54-31d06cb8e14c"
      },
      "execution_count": null,
      "outputs": [
        {
          "output_type": "execute_result",
          "data": {
            "text/plain": [
              "array([249400.,  47900.,  68600.,  52900.,  33400.])"
            ]
          },
          "metadata": {},
          "execution_count": 35
        }
      ]
    },
    {
      "cell_type": "code",
      "source": [
        "insurance_labels.iloc[:5].values"
      ],
      "metadata": {
        "colab": {
          "base_uri": "https://localhost:8080/"
        },
        "id": "ZcTR1iQQkGym",
        "outputId": "17c7aa20-a521-492a-e790-8d25a72ec6c0"
      },
      "execution_count": null,
      "outputs": [
        {
          "output_type": "execute_result",
          "data": {
            "text/plain": [
              "array([294028.,  55219.,  80524.,  39614.,  28048.])"
            ]
          },
          "metadata": {},
          "execution_count": 36
        }
      ]
    },
    {
      "cell_type": "code",
      "source": [
        "error_ratios = insurance_predictions[:5].round(-2) / insurance_labels.iloc[:5].values - 1\n",
        "print(\", \".join([f\"{100 * ratio:.1f}%\" for ratio in error_ratios]))"
      ],
      "metadata": {
        "colab": {
          "base_uri": "https://localhost:8080/"
        },
        "id": "_cRU76nwkUp5",
        "outputId": "cc64413f-b6d3-4a42-fb12-0e56a616c44c"
      },
      "execution_count": null,
      "outputs": [
        {
          "output_type": "stream",
          "name": "stdout",
          "text": [
            "-15.2%, -13.3%, -14.8%, 33.5%, 19.1%\n"
          ]
        }
      ]
    },
    {
      "cell_type": "code",
      "source": [
        "from sklearn.metrics import mean_squared_error\n",
        "\n",
        "lin_rmse = mean_squared_error(insurance_labels, insurance_predictions,\n",
        "                              squared=False)\n",
        "lin_rmse"
      ],
      "metadata": {
        "colab": {
          "base_uri": "https://localhost:8080/"
        },
        "id": "b-EfRtIYkX0V",
        "outputId": "8f0d93ca-682d-4d13-9059-6161a0bd7cbc"
      },
      "execution_count": null,
      "outputs": [
        {
          "output_type": "execute_result",
          "data": {
            "text/plain": [
              "42935.03202700782"
            ]
          },
          "metadata": {},
          "execution_count": 38
        }
      ]
    },
    {
      "cell_type": "code",
      "source": [
        "# model_with_all_features\n",
        "lin_reg['linearregression'].coef_, lin_reg['linearregression'].coef_"
      ],
      "metadata": {
        "colab": {
          "base_uri": "https://localhost:8080/"
        },
        "id": "TdwA-_DVm20j",
        "outputId": "45ccd897-a5c2-43fa-90bb-a87907969c07"
      },
      "execution_count": null,
      "outputs": [
        {
          "output_type": "execute_result",
          "data": {
            "text/plain": [
              "(array([ 24680.57106157,  14558.56830226,   4184.8324788 ,   -189.13519573,\n",
              "         -1988.03510933,   5590.43478783,  -1075.12826698,  -2527.27141152,\n",
              "          -247.56465778,    247.56465778, -83963.09286722,  83963.09286722]),\n",
              " array([ 24680.57106157,  14558.56830226,   4184.8324788 ,   -189.13519573,\n",
              "         -1988.03510933,   5590.43478783,  -1075.12826698,  -2527.27141152,\n",
              "          -247.56465778,    247.56465778, -83963.09286722,  83963.09286722]))"
            ]
          },
          "metadata": {},
          "execution_count": 45
        }
      ]
    },
    {
      "cell_type": "code",
      "source": [
        "# model_with_feature_with_correlation_greater_than_0.1\n",
        "lin_reg_2 = make_pipeline(preprocessing2, LinearRegression())\n",
        "lin_reg_2.fit(insurance, insurance_labels)\n",
        "insurance_predictions_2 = lin_reg_2.predict(insurance)\n",
        "lin_rmse_2 = mean_squared_error(insurance_labels, insurance_predictions_2,\n",
        "                              squared=False)\n",
        "print(f'RMSE: {lin_rmse_2}')\n",
        "print(f\"MODEL_2: {lin_reg_2['linearregression'].coef_}, {lin_reg_2['linearregression'].coef_}\")"
      ],
      "metadata": {
        "colab": {
          "base_uri": "https://localhost:8080/"
        },
        "id": "SrgnACdlWy0a",
        "outputId": "d129b512-e9f1-46fc-a20a-b87e04ed8e57"
      },
      "execution_count": null,
      "outputs": [
        {
          "output_type": "stream",
          "name": "stdout",
          "text": [
            "RMSE: 43255.730680688146\n",
            "MODEL_2: [ 24856.69187606  14027.05159716 -83772.69812785  83772.69812785], [ 24856.69187606  14027.05159716 -83772.69812785  83772.69812785]\n"
          ]
        }
      ]
    },
    {
      "cell_type": "code",
      "source": [
        "lin_reg_2"
      ],
      "metadata": {
        "colab": {
          "base_uri": "https://localhost:8080/",
          "height": 251
        },
        "id": "EwmY8uDiYglW",
        "outputId": "6914fe9e-f43c-4f13-e17b-0c1caca01567"
      },
      "execution_count": null,
      "outputs": [
        {
          "output_type": "execute_result",
          "data": {
            "text/plain": [
              "Pipeline(steps=[('columntransformer',\n",
              "                 ColumnTransformer(transformers=[('num',\n",
              "                                                  Pipeline(steps=[('impute',\n",
              "                                                                   SimpleImputer(fill_value=0,\n",
              "                                                                                 strategy='constant')),\n",
              "                                                                  ('standardize',\n",
              "                                                                   StandardScaler())]),\n",
              "                                                  ['age', 'bmi']),\n",
              "                                                 ('cat_1hot',\n",
              "                                                  Pipeline(steps=[('impute',\n",
              "                                                                   SimpleImputer(strategy='most_frequent')),\n",
              "                                                                  ('1hotEncode',\n",
              "                                                                   OneHotEncoder(handle_unknown='ignore'))]),\n",
              "                                                  ['home', 'sex', 'smoker'])])),\n",
              "                ('linearregression', LinearRegression())])"
            ],
            "text/html": [
              "<style>#sk-b886be83-813c-4ab0-8db4-96b52af634bd {color: black;background-color: white;}#sk-b886be83-813c-4ab0-8db4-96b52af634bd pre{padding: 0;}#sk-b886be83-813c-4ab0-8db4-96b52af634bd div.sk-toggleable {background-color: white;}#sk-b886be83-813c-4ab0-8db4-96b52af634bd label.sk-toggleable__label {cursor: pointer;display: block;width: 100%;margin-bottom: 0;padding: 0.3em;box-sizing: border-box;text-align: center;}#sk-b886be83-813c-4ab0-8db4-96b52af634bd label.sk-toggleable__label-arrow:before {content: \"▸\";float: left;margin-right: 0.25em;color: #696969;}#sk-b886be83-813c-4ab0-8db4-96b52af634bd label.sk-toggleable__label-arrow:hover:before {color: black;}#sk-b886be83-813c-4ab0-8db4-96b52af634bd div.sk-estimator:hover label.sk-toggleable__label-arrow:before {color: black;}#sk-b886be83-813c-4ab0-8db4-96b52af634bd div.sk-toggleable__content {max-height: 0;max-width: 0;overflow: hidden;text-align: left;background-color: #f0f8ff;}#sk-b886be83-813c-4ab0-8db4-96b52af634bd div.sk-toggleable__content pre {margin: 0.2em;color: black;border-radius: 0.25em;background-color: #f0f8ff;}#sk-b886be83-813c-4ab0-8db4-96b52af634bd input.sk-toggleable__control:checked~div.sk-toggleable__content {max-height: 200px;max-width: 100%;overflow: auto;}#sk-b886be83-813c-4ab0-8db4-96b52af634bd input.sk-toggleable__control:checked~label.sk-toggleable__label-arrow:before {content: \"▾\";}#sk-b886be83-813c-4ab0-8db4-96b52af634bd div.sk-estimator input.sk-toggleable__control:checked~label.sk-toggleable__label {background-color: #d4ebff;}#sk-b886be83-813c-4ab0-8db4-96b52af634bd div.sk-label input.sk-toggleable__control:checked~label.sk-toggleable__label {background-color: #d4ebff;}#sk-b886be83-813c-4ab0-8db4-96b52af634bd input.sk-hidden--visually {border: 0;clip: rect(1px 1px 1px 1px);clip: rect(1px, 1px, 1px, 1px);height: 1px;margin: -1px;overflow: hidden;padding: 0;position: absolute;width: 1px;}#sk-b886be83-813c-4ab0-8db4-96b52af634bd div.sk-estimator {font-family: monospace;background-color: #f0f8ff;border: 1px dotted black;border-radius: 0.25em;box-sizing: border-box;margin-bottom: 0.5em;}#sk-b886be83-813c-4ab0-8db4-96b52af634bd div.sk-estimator:hover {background-color: #d4ebff;}#sk-b886be83-813c-4ab0-8db4-96b52af634bd div.sk-parallel-item::after {content: \"\";width: 100%;border-bottom: 1px solid gray;flex-grow: 1;}#sk-b886be83-813c-4ab0-8db4-96b52af634bd div.sk-label:hover label.sk-toggleable__label {background-color: #d4ebff;}#sk-b886be83-813c-4ab0-8db4-96b52af634bd div.sk-serial::before {content: \"\";position: absolute;border-left: 1px solid gray;box-sizing: border-box;top: 2em;bottom: 0;left: 50%;}#sk-b886be83-813c-4ab0-8db4-96b52af634bd div.sk-serial {display: flex;flex-direction: column;align-items: center;background-color: white;padding-right: 0.2em;padding-left: 0.2em;}#sk-b886be83-813c-4ab0-8db4-96b52af634bd div.sk-item {z-index: 1;}#sk-b886be83-813c-4ab0-8db4-96b52af634bd div.sk-parallel {display: flex;align-items: stretch;justify-content: center;background-color: white;}#sk-b886be83-813c-4ab0-8db4-96b52af634bd div.sk-parallel::before {content: \"\";position: absolute;border-left: 1px solid gray;box-sizing: border-box;top: 2em;bottom: 0;left: 50%;}#sk-b886be83-813c-4ab0-8db4-96b52af634bd div.sk-parallel-item {display: flex;flex-direction: column;position: relative;background-color: white;}#sk-b886be83-813c-4ab0-8db4-96b52af634bd div.sk-parallel-item:first-child::after {align-self: flex-end;width: 50%;}#sk-b886be83-813c-4ab0-8db4-96b52af634bd div.sk-parallel-item:last-child::after {align-self: flex-start;width: 50%;}#sk-b886be83-813c-4ab0-8db4-96b52af634bd div.sk-parallel-item:only-child::after {width: 0;}#sk-b886be83-813c-4ab0-8db4-96b52af634bd div.sk-dashed-wrapped {border: 1px dashed gray;margin: 0 0.4em 0.5em 0.4em;box-sizing: border-box;padding-bottom: 0.4em;background-color: white;position: relative;}#sk-b886be83-813c-4ab0-8db4-96b52af634bd div.sk-label label {font-family: monospace;font-weight: bold;background-color: white;display: inline-block;line-height: 1.2em;}#sk-b886be83-813c-4ab0-8db4-96b52af634bd div.sk-label-container {position: relative;z-index: 2;text-align: center;}#sk-b886be83-813c-4ab0-8db4-96b52af634bd div.sk-container {/* jupyter's `normalize.less` sets `[hidden] { display: none; }` but bootstrap.min.css set `[hidden] { display: none !important; }` so we also need the `!important` here to be able to override the default hidden behavior on the sphinx rendered scikit-learn.org. See: https://github.com/scikit-learn/scikit-learn/issues/21755 */display: inline-block !important;position: relative;}#sk-b886be83-813c-4ab0-8db4-96b52af634bd div.sk-text-repr-fallback {display: none;}</style><div id=\"sk-b886be83-813c-4ab0-8db4-96b52af634bd\" class=\"sk-top-container\"><div class=\"sk-text-repr-fallback\"><pre>Pipeline(steps=[(&#x27;columntransformer&#x27;,\n",
              "                 ColumnTransformer(transformers=[(&#x27;num&#x27;,\n",
              "                                                  Pipeline(steps=[(&#x27;impute&#x27;,\n",
              "                                                                   SimpleImputer(fill_value=0,\n",
              "                                                                                 strategy=&#x27;constant&#x27;)),\n",
              "                                                                  (&#x27;standardize&#x27;,\n",
              "                                                                   StandardScaler())]),\n",
              "                                                  [&#x27;age&#x27;, &#x27;bmi&#x27;]),\n",
              "                                                 (&#x27;cat_1hot&#x27;,\n",
              "                                                  Pipeline(steps=[(&#x27;impute&#x27;,\n",
              "                                                                   SimpleImputer(strategy=&#x27;most_frequent&#x27;)),\n",
              "                                                                  (&#x27;1hotEncode&#x27;,\n",
              "                                                                   OneHotEncoder(handle_unknown=&#x27;ignore&#x27;))]),\n",
              "                                                  [&#x27;home&#x27;, &#x27;sex&#x27;, &#x27;smoker&#x27;])])),\n",
              "                (&#x27;linearregression&#x27;, LinearRegression())])</pre><b>Please rerun this cell to show the HTML repr or trust the notebook.</b></div><div class=\"sk-container\" hidden><div class=\"sk-item sk-dashed-wrapped\"><div class=\"sk-label-container\"><div class=\"sk-label sk-toggleable\"><input class=\"sk-toggleable__control sk-hidden--visually\" id=\"16323fe8-cb56-4c70-b2a9-df02f070b677\" type=\"checkbox\" ><label for=\"16323fe8-cb56-4c70-b2a9-df02f070b677\" class=\"sk-toggleable__label sk-toggleable__label-arrow\">Pipeline</label><div class=\"sk-toggleable__content\"><pre>Pipeline(steps=[(&#x27;columntransformer&#x27;,\n",
              "                 ColumnTransformer(transformers=[(&#x27;num&#x27;,\n",
              "                                                  Pipeline(steps=[(&#x27;impute&#x27;,\n",
              "                                                                   SimpleImputer(fill_value=0,\n",
              "                                                                                 strategy=&#x27;constant&#x27;)),\n",
              "                                                                  (&#x27;standardize&#x27;,\n",
              "                                                                   StandardScaler())]),\n",
              "                                                  [&#x27;age&#x27;, &#x27;bmi&#x27;]),\n",
              "                                                 (&#x27;cat_1hot&#x27;,\n",
              "                                                  Pipeline(steps=[(&#x27;impute&#x27;,\n",
              "                                                                   SimpleImputer(strategy=&#x27;most_frequent&#x27;)),\n",
              "                                                                  (&#x27;1hotEncode&#x27;,\n",
              "                                                                   OneHotEncoder(handle_unknown=&#x27;ignore&#x27;))]),\n",
              "                                                  [&#x27;home&#x27;, &#x27;sex&#x27;, &#x27;smoker&#x27;])])),\n",
              "                (&#x27;linearregression&#x27;, LinearRegression())])</pre></div></div></div><div class=\"sk-serial\"><div class=\"sk-item sk-dashed-wrapped\"><div class=\"sk-label-container\"><div class=\"sk-label sk-toggleable\"><input class=\"sk-toggleable__control sk-hidden--visually\" id=\"28591715-ae15-4e13-829f-1e071ff41550\" type=\"checkbox\" ><label for=\"28591715-ae15-4e13-829f-1e071ff41550\" class=\"sk-toggleable__label sk-toggleable__label-arrow\">columntransformer: ColumnTransformer</label><div class=\"sk-toggleable__content\"><pre>ColumnTransformer(transformers=[(&#x27;num&#x27;,\n",
              "                                 Pipeline(steps=[(&#x27;impute&#x27;,\n",
              "                                                  SimpleImputer(fill_value=0,\n",
              "                                                                strategy=&#x27;constant&#x27;)),\n",
              "                                                 (&#x27;standardize&#x27;,\n",
              "                                                  StandardScaler())]),\n",
              "                                 [&#x27;age&#x27;, &#x27;bmi&#x27;]),\n",
              "                                (&#x27;cat_1hot&#x27;,\n",
              "                                 Pipeline(steps=[(&#x27;impute&#x27;,\n",
              "                                                  SimpleImputer(strategy=&#x27;most_frequent&#x27;)),\n",
              "                                                 (&#x27;1hotEncode&#x27;,\n",
              "                                                  OneHotEncoder(handle_unknown=&#x27;ignore&#x27;))]),\n",
              "                                 [&#x27;home&#x27;, &#x27;sex&#x27;, &#x27;smoker&#x27;])])</pre></div></div></div><div class=\"sk-parallel\"><div class=\"sk-parallel-item\"><div class=\"sk-item\"><div class=\"sk-label-container\"><div class=\"sk-label sk-toggleable\"><input class=\"sk-toggleable__control sk-hidden--visually\" id=\"ee518855-2689-45cf-886d-b505ac9e3664\" type=\"checkbox\" ><label for=\"ee518855-2689-45cf-886d-b505ac9e3664\" class=\"sk-toggleable__label sk-toggleable__label-arrow\">num</label><div class=\"sk-toggleable__content\"><pre>[&#x27;age&#x27;, &#x27;bmi&#x27;]</pre></div></div></div><div class=\"sk-serial\"><div class=\"sk-item\"><div class=\"sk-serial\"><div class=\"sk-item\"><div class=\"sk-estimator sk-toggleable\"><input class=\"sk-toggleable__control sk-hidden--visually\" id=\"ac93f8be-7718-4486-b96d-33f303a46eb9\" type=\"checkbox\" ><label for=\"ac93f8be-7718-4486-b96d-33f303a46eb9\" class=\"sk-toggleable__label sk-toggleable__label-arrow\">SimpleImputer</label><div class=\"sk-toggleable__content\"><pre>SimpleImputer(fill_value=0, strategy=&#x27;constant&#x27;)</pre></div></div></div><div class=\"sk-item\"><div class=\"sk-estimator sk-toggleable\"><input class=\"sk-toggleable__control sk-hidden--visually\" id=\"da62151a-a1f3-4f23-bc31-e8b23f83c3af\" type=\"checkbox\" ><label for=\"da62151a-a1f3-4f23-bc31-e8b23f83c3af\" class=\"sk-toggleable__label sk-toggleable__label-arrow\">StandardScaler</label><div class=\"sk-toggleable__content\"><pre>StandardScaler()</pre></div></div></div></div></div></div></div></div><div class=\"sk-parallel-item\"><div class=\"sk-item\"><div class=\"sk-label-container\"><div class=\"sk-label sk-toggleable\"><input class=\"sk-toggleable__control sk-hidden--visually\" id=\"56a6fc96-540f-4c5a-8fab-dd3a45255872\" type=\"checkbox\" ><label for=\"56a6fc96-540f-4c5a-8fab-dd3a45255872\" class=\"sk-toggleable__label sk-toggleable__label-arrow\">cat_1hot</label><div class=\"sk-toggleable__content\"><pre>[&#x27;home&#x27;, &#x27;sex&#x27;, &#x27;smoker&#x27;]</pre></div></div></div><div class=\"sk-serial\"><div class=\"sk-item\"><div class=\"sk-serial\"><div class=\"sk-item\"><div class=\"sk-estimator sk-toggleable\"><input class=\"sk-toggleable__control sk-hidden--visually\" id=\"3bc6c829-4314-407f-9638-dd9c719ae9e8\" type=\"checkbox\" ><label for=\"3bc6c829-4314-407f-9638-dd9c719ae9e8\" class=\"sk-toggleable__label sk-toggleable__label-arrow\">SimpleImputer</label><div class=\"sk-toggleable__content\"><pre>SimpleImputer(strategy=&#x27;most_frequent&#x27;)</pre></div></div></div><div class=\"sk-item\"><div class=\"sk-estimator sk-toggleable\"><input class=\"sk-toggleable__control sk-hidden--visually\" id=\"9a1b3ef0-0b38-4869-9dad-f9bd5f2b312a\" type=\"checkbox\" ><label for=\"9a1b3ef0-0b38-4869-9dad-f9bd5f2b312a\" class=\"sk-toggleable__label sk-toggleable__label-arrow\">OneHotEncoder</label><div class=\"sk-toggleable__content\"><pre>OneHotEncoder(handle_unknown=&#x27;ignore&#x27;)</pre></div></div></div></div></div></div></div></div></div></div><div class=\"sk-item\"><div class=\"sk-estimator sk-toggleable\"><input class=\"sk-toggleable__control sk-hidden--visually\" id=\"7d0a6353-cce8-4822-ba59-df4c5a8d3489\" type=\"checkbox\" ><label for=\"7d0a6353-cce8-4822-ba59-df4c5a8d3489\" class=\"sk-toggleable__label sk-toggleable__label-arrow\">LinearRegression</label><div class=\"sk-toggleable__content\"><pre>LinearRegression()</pre></div></div></div></div></div></div></div>"
            ]
          },
          "metadata": {},
          "execution_count": 53
        }
      ]
    },
    {
      "cell_type": "markdown",
      "source": [
        "## Cross-Validation"
      ],
      "metadata": {
        "id": "nRZLZcm1UaOQ"
      }
    },
    {
      "cell_type": "code",
      "source": [
        "from sklearn.model_selection import cross_val_score\n",
        "\n",
        "lin_rmses = -cross_val_score(lin_reg, insurance, insurance_labels,\n",
        "                              scoring=\"neg_root_mean_squared_error\", cv=10)\n",
        "pd.Series(lin_rmses).describe()"
      ],
      "metadata": {
        "colab": {
          "base_uri": "https://localhost:8080/"
        },
        "id": "8pTjq_r2UetR",
        "outputId": "b3efe669-d62a-4ee1-fe0b-b33e86661129"
      },
      "execution_count": null,
      "outputs": [
        {
          "output_type": "execute_result",
          "data": {
            "text/plain": [
              "count       10.000000\n",
              "mean     43051.139344\n",
              "std       4980.874194\n",
              "min      34072.084025\n",
              "25%      39796.897023\n",
              "50%      42955.124751\n",
              "75%      47088.283076\n",
              "max      49247.551740\n",
              "dtype: float64"
            ]
          },
          "metadata": {},
          "execution_count": 41
        }
      ]
    },
    {
      "cell_type": "code",
      "source": [
        "lin_rmses_2 = -cross_val_score(lin_reg_2, insurance, insurance_labels,\n",
        "                              scoring=\"neg_root_mean_squared_error\", cv=10)\n",
        "pd.Series(lin_rmses_2).describe()"
      ],
      "metadata": {
        "colab": {
          "base_uri": "https://localhost:8080/"
        },
        "id": "vvvBh-qMYN5U",
        "outputId": "601d38a0-4af0-47c3-9bbc-1d2c91b46664"
      },
      "execution_count": null,
      "outputs": [
        {
          "output_type": "execute_result",
          "data": {
            "text/plain": [
              "count       10.000000\n",
              "mean     43142.966898\n",
              "std       5099.138801\n",
              "min      34119.826679\n",
              "25%      39541.294230\n",
              "50%      43076.200698\n",
              "75%      47328.611007\n",
              "max      49779.727467\n",
              "dtype: float64"
            ]
          },
          "metadata": {},
          "execution_count": 59
        }
      ]
    },
    {
      "cell_type": "markdown",
      "source": [
        "# Evalution on Testing Set"
      ],
      "metadata": {
        "id": "TOy60C1bVwH5"
      }
    },
    {
      "cell_type": "code",
      "source": [
        "X_test = strat_test_set.drop(\"past claims\", axis=1)\n",
        "y_test = strat_test_set[\"past claims\"].copy()\n",
        "\n",
        "final_predictions = lin_reg.predict(X_test)\n",
        "\n",
        "final_rmse = mean_squared_error(y_test, final_predictions, squared=False)\n",
        "print(final_rmse)"
      ],
      "metadata": {
        "colab": {
          "base_uri": "https://localhost:8080/"
        },
        "id": "TzoQqHEvVtM3",
        "outputId": "daf0a206-a4a9-40e5-e7b8-01bece6a3ad2"
      },
      "execution_count": null,
      "outputs": [
        {
          "output_type": "stream",
          "name": "stdout",
          "text": [
            "40969.78811254085\n"
          ]
        }
      ]
    },
    {
      "cell_type": "code",
      "source": [
        "from scipy import stats\n",
        "\n",
        "confidence = 0.95\n",
        "squared_errors = (final_predictions - y_test) ** 2\n",
        "np.sqrt(stats.t.interval(confidence, len(squared_errors) - 1,\n",
        "                         loc=squared_errors.mean(),\n",
        "                         scale=stats.sem(squared_errors)))"
      ],
      "metadata": {
        "colab": {
          "base_uri": "https://localhost:8080/"
        },
        "id": "54S4DPP1ZIN0",
        "outputId": "ae6eea4e-93a1-4169-e023-28bba24d24e0"
      },
      "execution_count": null,
      "outputs": [
        {
          "output_type": "execute_result",
          "data": {
            "text/plain": [
              "array([35439.19930546, 45837.86893564])"
            ]
          },
          "metadata": {},
          "execution_count": 65
        }
      ]
    }
  ]
}